{
 "cells": [
  {
   "cell_type": "markdown",
   "metadata": {
    "id": "UX7N-TezQz8R"
   },
   "source": [
    "# Data Scrapping CA 2- Kenneth Xavier Dsilva ID: 10600644\n",
    "\n",
    "\n",
    "* I have scrapped two websites IMDB and OMDB \n",
    "* OMDB is an API which i used to get the movie details from, IMDB i have scrapped to get the Titles of the Top 1000 movies from.\n",
    "* This i have then converted to a DataFrame and exported as a CSV.\n",
    "\n"
   ]
  },
  {
   "cell_type": "code",
   "execution_count": 1,
   "metadata": {
    "id": "c3KbSjvvg-HZ"
   },
   "outputs": [],
   "source": [
    "import requests \n",
    "from pprint import PrettyPrinter\n",
    "import json\n",
    "import pandas as pd\n",
    "from bs4 import BeautifulSoup\n",
    "pp= PrettyPrinter()\n",
    "#from google.colab import files"
   ]
  },
  {
   "cell_type": "code",
   "execution_count": 3,
   "metadata": {
    "colab": {
     "base_uri": "https://localhost:8080/"
    },
    "executionInfo": {
     "elapsed": 17551,
     "status": "ok",
     "timestamp": 1649677550066,
     "user": {
      "displayName": "Kenneth Dsilva",
      "userId": "02991848836554193842"
     },
     "user_tz": -60
    },
    "id": "zTAfdAnJs125",
    "outputId": "fcb51970-0565-45af-d391-d8068a1d2418"
   },
   "outputs": [
    {
     "name": "stdout",
     "output_type": "stream",
     "text": [
      ".\n"
     ]
    }
   ],
   "source": [
    "#Getting list of Movie Names\n",
    "movie_titles=[]\n",
    "url = \"https://www.imdb.com/list/ls055592025/\"\n",
    "response1 = requests.get(url)\n",
    "soup = BeautifulSoup(response1.content,'html.parser')\n",
    "\n",
    "title_data = soup.findAll('div', attrs={'class':'lister-item mode-advanced'})\n",
    "\n",
    "print('.')\n",
    "for store in title_data:\n",
    "    name = store.h3.a.text\n",
    "    movie_titles.append(name)"
   ]
  },
  {
   "cell_type": "code",
   "execution_count": 4,
   "metadata": {},
   "outputs": [
    {
     "name": "stdout",
     "output_type": "stream",
     "text": [
      ".\n"
     ]
    }
   ],
   "source": [
    "movie_titles=[]\n",
    "url = \"https://www.imdb.com/list/ls055592025/\"\n",
    "response1 = requests.get(url)\n",
    "soup = BeautifulSoup(response1.content,'html.parser')\n",
    "\n",
    "title_data = soup.findAll('div', attrs={'class':\"lister-item-content\"})\n",
    "\n",
    "print('.')\n",
    "\n",
    "for store in title_data:\n",
    "    name = store.h3.a.text\n",
    "    movie_titles.append(name)"
   ]
  },
  {
   "cell_type": "code",
   "execution_count": 5,
   "metadata": {
    "colab": {
     "base_uri": "https://localhost:8080/"
    },
    "executionInfo": {
     "elapsed": 14,
     "status": "ok",
     "timestamp": 1649677550067,
     "user": {
      "displayName": "Kenneth Dsilva",
      "userId": "02991848836554193842"
     },
     "user_tz": -60
    },
    "id": "95mdM09Ps6R-",
    "outputId": "ba4b74d6-bcf2-4591-87b1-62d0c80a31f1"
   },
   "outputs": [
    {
     "data": {
      "text/plain": [
       "100"
      ]
     },
     "execution_count": 5,
     "metadata": {},
     "output_type": "execute_result"
    }
   ],
   "source": [
    "len(movie_titles)"
   ]
  },
  {
   "cell_type": "code",
   "execution_count": 6,
   "metadata": {
    "colab": {
     "base_uri": "https://localhost:8080/"
    },
    "executionInfo": {
     "elapsed": 106127,
     "status": "ok",
     "timestamp": 1649677656189,
     "user": {
      "displayName": "Kenneth Dsilva",
      "userId": "02991848836554193842"
     },
     "user_tz": -60
    },
    "id": "zB1S39LHq5RS",
    "outputId": "9974492c-a7f3-4077-9296-d54888f425d1"
   },
   "outputs": [
    {
     "name": "stdout",
     "output_type": "stream",
     "text": [
      "Il buono, il brutto, il cattivo isint available due to Movie not found!\n"
     ]
    }
   ],
   "source": [
    "import requests\n",
    "\n",
    "movie_name = []\n",
    "year = []\n",
    "actors = []\n",
    "directors = []\n",
    "writer = []\n",
    "rating=[]\n",
    "\n",
    "titles=[]\n",
    "count=1\n",
    "for name in movie_titles:\n",
    "  titles.append(name)\n",
    "\n",
    "\n",
    "for title in titles:\n",
    "  url = 'http://www.omdbapi.com/?apikey=9fe2dc32&r=json&t='+title\n",
    "\n",
    "  resp = requests.get(url)\n",
    "  data = resp.content\n",
    "  h = json.loads(data)\n",
    "  if(str((h[\"Response\"]))=='False'):\n",
    "    print('{} isint available due to {}'.format(title, str((h[\"Error\"]))))\n",
    "  else:\n",
    "    \n",
    "    title=str((h[\"Title\"]))\n",
    "    title = title.replace('[','').replace(']','').replace(\"'\",\"\")\n",
    "    movie_name.append(title)\n",
    "    #else: print(\"No Movie\")\n",
    "  #Year\n",
    "    y=str((h[\"Released\"]))\n",
    "    y=y.replace('[','').replace(']','').replace(\"'\",\"\").replace(\" \",'/')\n",
    "    y =y.replace('Jan','01').replace('Feb','02').replace('Mar','03').replace('Apr','04').replace('May','05').replace('Jun','06').replace('Jul','07').replace('Aug','08').replace('Sep','09').replace('Oct','10').replace('Nov','11').replace('Dec','12')\n",
    "    year.append(y)\n",
    "\n",
    "  #Actor\n",
    "    a = str((h[\"Actors\"]))\n",
    "    a= a.replace('[','').replace(']','').replace(\"'\",\"\").replace('\"','')\n",
    "    actors.append(a)\n",
    "\n",
    "  #Directors\n",
    "    d = str((h[\"Director\"]))\n",
    "    d= d.replace('[','').replace(']','').replace(\"'\",\"\").replace('\"','')\n",
    "    directors.append(d)\n",
    "\n",
    "  #Writer\n",
    "    w = str((h[\"Writer\"]))\n",
    "    w= w.replace('[','').replace(']','').replace(\"'\",\"\").replace('\"','')\n",
    "    writer.append(w)\n",
    "\n",
    "\n",
    "  #Rating\n",
    "    rate= str((h[\"Ratings\"]))\n",
    "    rate=rate.replace(\"[{'Source': 'Internet Movie Database', 'Value': \", \"\").replace(\"}]\",\"\").replace(\"'\",\"\")\n",
    "    #print(rate)\n",
    "    rate=rate[0:3]\n",
    "    rating.append(rate)\n",
    "  df= pd.DataFrame({\"Movie Name\":movie_name,\n",
    "                    \"Year\":year,\n",
    "                    \"Actors\": actors,\n",
    "                    \"Directors\":directors,\n",
    "                    \"Writer\": writer,\n",
    "                    \"Rating\":rating\n",
    "      })"
   ]
  },
  {
   "cell_type": "code",
   "execution_count": 7,
   "metadata": {
    "colab": {
     "base_uri": "https://localhost:8080/"
    },
    "executionInfo": {
     "elapsed": 46,
     "status": "ok",
     "timestamp": 1649677656190,
     "user": {
      "displayName": "Kenneth Dsilva",
      "userId": "02991848836554193842"
     },
     "user_tz": -60
    },
    "id": "tXVM-9Jvv0Oa",
    "outputId": "02e37b23-9d29-451e-8be6-f153853d2633"
   },
   "outputs": [
    {
     "data": {
      "text/plain": [
       "99"
      ]
     },
     "execution_count": 7,
     "metadata": {},
     "output_type": "execute_result"
    }
   ],
   "source": [
    "len(df)"
   ]
  },
  {
   "cell_type": "code",
   "execution_count": 8,
   "metadata": {},
   "outputs": [
    {
     "data": {
      "text/html": [
       "<div>\n",
       "<style scoped>\n",
       "    .dataframe tbody tr th:only-of-type {\n",
       "        vertical-align: middle;\n",
       "    }\n",
       "\n",
       "    .dataframe tbody tr th {\n",
       "        vertical-align: top;\n",
       "    }\n",
       "\n",
       "    .dataframe thead th {\n",
       "        text-align: right;\n",
       "    }\n",
       "</style>\n",
       "<table border=\"1\" class=\"dataframe\">\n",
       "  <thead>\n",
       "    <tr style=\"text-align: right;\">\n",
       "      <th></th>\n",
       "      <th>Movie Name</th>\n",
       "      <th>Year</th>\n",
       "      <th>Actors</th>\n",
       "      <th>Directors</th>\n",
       "      <th>Writer</th>\n",
       "      <th>Rating</th>\n",
       "    </tr>\n",
       "  </thead>\n",
       "  <tbody>\n",
       "    <tr>\n",
       "      <th>0</th>\n",
       "      <td>The Godfather</td>\n",
       "      <td>24/03/1972</td>\n",
       "      <td>Marlon Brando, Al Pacino, James Caan</td>\n",
       "      <td>Francis Ford Coppola</td>\n",
       "      <td>Mario Puzo, Francis Ford Coppola</td>\n",
       "      <td>9.2</td>\n",
       "    </tr>\n",
       "    <tr>\n",
       "      <th>1</th>\n",
       "      <td>The Shawshank Redemption</td>\n",
       "      <td>14/10/1994</td>\n",
       "      <td>Tim Robbins, Morgan Freeman, Bob Gunton</td>\n",
       "      <td>Frank Darabont</td>\n",
       "      <td>Stephen King, Frank Darabont</td>\n",
       "      <td>9.3</td>\n",
       "    </tr>\n",
       "    <tr>\n",
       "      <th>2</th>\n",
       "      <td>Schindlers List</td>\n",
       "      <td>04/02/1994</td>\n",
       "      <td>Liam Neeson, Ralph Fiennes, Ben Kingsley</td>\n",
       "      <td>Steven Spielberg</td>\n",
       "      <td>Thomas Keneally, Steven Zaillian</td>\n",
       "      <td>8.9</td>\n",
       "    </tr>\n",
       "    <tr>\n",
       "      <th>3</th>\n",
       "      <td>Raging Bull</td>\n",
       "      <td>19/12/1980</td>\n",
       "      <td>Robert De Niro, Cathy Moriarty, Joe Pesci</td>\n",
       "      <td>Martin Scorsese</td>\n",
       "      <td>Jake LaMotta, Joseph Carter, Peter Savage</td>\n",
       "      <td>8.2</td>\n",
       "    </tr>\n",
       "    <tr>\n",
       "      <th>4</th>\n",
       "      <td>Casablanca</td>\n",
       "      <td>23/01/1943</td>\n",
       "      <td>Humphrey Bogart, Ingrid Bergman, Paul Henreid</td>\n",
       "      <td>Michael Curtiz</td>\n",
       "      <td>Julius J. Epstein, Philip G. Epstein, Howard Koch</td>\n",
       "      <td>8.5</td>\n",
       "    </tr>\n",
       "  </tbody>\n",
       "</table>\n",
       "</div>"
      ],
      "text/plain": [
       "                 Movie Name        Year  \\\n",
       "0             The Godfather  24/03/1972   \n",
       "1  The Shawshank Redemption  14/10/1994   \n",
       "2           Schindlers List  04/02/1994   \n",
       "3               Raging Bull  19/12/1980   \n",
       "4                Casablanca  23/01/1943   \n",
       "\n",
       "                                          Actors             Directors  \\\n",
       "0           Marlon Brando, Al Pacino, James Caan  Francis Ford Coppola   \n",
       "1        Tim Robbins, Morgan Freeman, Bob Gunton        Frank Darabont   \n",
       "2       Liam Neeson, Ralph Fiennes, Ben Kingsley      Steven Spielberg   \n",
       "3      Robert De Niro, Cathy Moriarty, Joe Pesci       Martin Scorsese   \n",
       "4  Humphrey Bogart, Ingrid Bergman, Paul Henreid        Michael Curtiz   \n",
       "\n",
       "                                              Writer Rating  \n",
       "0                   Mario Puzo, Francis Ford Coppola    9.2  \n",
       "1                       Stephen King, Frank Darabont    9.3  \n",
       "2                   Thomas Keneally, Steven Zaillian    8.9  \n",
       "3          Jake LaMotta, Joseph Carter, Peter Savage    8.2  \n",
       "4  Julius J. Epstein, Philip G. Epstein, Howard Koch    8.5  "
      ]
     },
     "execution_count": 8,
     "metadata": {},
     "output_type": "execute_result"
    }
   ],
   "source": [
    "df.head()"
   ]
  },
  {
   "cell_type": "markdown",
   "metadata": {
    "id": "mDopN0XNPz-I"
   },
   "source": [
    "#"
   ]
  },
  {
   "cell_type": "code",
   "execution_count": 9,
   "metadata": {
    "id": "myTiQspiPyna"
   },
   "outputs": [],
   "source": [
    "from py2neo import Graph\n",
    "graph = Graph(\"bolt://localhost:11010\", auth=(\"neo4j\", \"neo\")) "
   ]
  },
  {
   "cell_type": "code",
   "execution_count": 10,
   "metadata": {},
   "outputs": [],
   "source": [
    "from neo4j import GraphDatabase\n",
    "\n",
    "movie_list = df\n",
    "movie_list = movie_list.replace(\" \",\"\")\n",
    "movie_list = movie_list.values.tolist()\n",
    "\n",
    "exe_comds_Movie = []\n",
    "exe_comds_Actor = []\n",
    "exe_comds_Director = []\n",
    "exe_comds_Writer = []\n",
    "exe_comds_Rating = []\n",
    "\n",
    "for i in movie_list:\n",
    "    \n",
    "    create_stat =\"CREATE(m:Movie_name{Movie:'\" +str(str(i[0]))+\"'})\"\n",
    "    create_stat_ActorName =\"CREATE(a:Actor_Names{Actor: '\"+ str(i[2]) +\"'})\"\n",
    "    create_stat_Directors =\"CREATE(d:Director_Names{Director: '\"+ str(i[3]) +\"'})\" \n",
    "    create_stat_Writers = \"CREATE(w:Writer_Name{Writer:'\"+ str(i[4]) +\"'})\"\n",
    "    create_stat_Rating = \"CREATE(r:Rating{Rating:'\"+ str(i[5]) +\"'})\"                                   \n",
    "    \n",
    "    exe_comds_Movie.append(create_stat)\n",
    "    exe_comds_Actor.append(create_stat_ActorName)\n",
    "    exe_comds_Director.append(create_stat_Directors)\n",
    "    exe_comds_Writer.append(create_stat_Writers)\n",
    "    exe_comds_Rating.append(create_stat_Rating)\n",
    "                                                         \n",
    "                                                         \n",
    "#def exec_tran(exe_comds_Movie,exe_comds_Actor,exe_comds_Director,exe_comds_Writer,exe_comds_Rating):\n",
    "def exec_tran(exe_comds_Movie,exe_comds_Actor,exe_comds_Director,exe_comds_Writer,exe_comds_Rating):\n",
    "    graph = GraphDatabase.driver(uri=\"bolt://localhost:11010\", auth=(\"neo4j\", \"neo\")) \n",
    "    sessions=graph.session()\n",
    "                                                         \n",
    "                                                         \n",
    "    for i in exe_comds_Movie:\n",
    "        sessions.run(i)\n",
    "    for i in exe_comds_Actor:\n",
    "        sessions.run(i)\n",
    "    for i in exe_comds_Director:\n",
    "        sessions.run(i)\n",
    "    for i in exe_comds_Writer:\n",
    "        sessions.run(i)\n",
    "    #for i in exe_comds_Rating:\n",
    "        sessions.run(i)\n",
    "\n",
    "                                                         \n",
    "                                                         \n",
    "exec_tran(exe_comds_Movie,exe_comds_Actor,exe_comds_Director,exe_comds_Writer,exe_comds_Rating)\n"
   ]
  },
  {
   "cell_type": "code",
   "execution_count": 11,
   "metadata": {},
   "outputs": [
    {
     "data": {
      "text/html": [
       "<div>\n",
       "<style scoped>\n",
       "    .dataframe tbody tr th:only-of-type {\n",
       "        vertical-align: middle;\n",
       "    }\n",
       "\n",
       "    .dataframe tbody tr th {\n",
       "        vertical-align: top;\n",
       "    }\n",
       "\n",
       "    .dataframe thead th {\n",
       "        text-align: right;\n",
       "    }\n",
       "</style>\n",
       "<table border=\"1\" class=\"dataframe\">\n",
       "  <thead>\n",
       "    <tr style=\"text-align: right;\">\n",
       "      <th></th>\n",
       "      <th>label</th>\n",
       "      <th>count</th>\n",
       "    </tr>\n",
       "  </thead>\n",
       "  <tbody>\n",
       "    <tr>\n",
       "      <th>0</th>\n",
       "      <td>Movie</td>\n",
       "      <td>198</td>\n",
       "    </tr>\n",
       "  </tbody>\n",
       "</table>\n",
       "</div>"
      ],
      "text/plain": [
       "   label  count\n",
       "0  Movie    198"
      ]
     },
     "execution_count": 11,
     "metadata": {},
     "output_type": "execute_result"
    }
   ],
   "source": [
    "result = {\"label\": [], \"count\": []}\n",
    "for label in graph.run(\"CALL db.labels()\").to_series():\n",
    "    query = f\"MATCH (:`{label}`) RETURN count(*) as count\"\n",
    "    count = graph.run(query).to_data_frame().iloc[0]['count']\n",
    "    result[\"label\"].append(label)\n",
    "    result[\"count\"].append(count)\n",
    "nodes_df = pd.DataFrame(data=result)\n",
    "nodes_df.sort_values(\"count\")"
   ]
  },
  {
   "cell_type": "code",
   "execution_count": 12,
   "metadata": {},
   "outputs": [
    {
     "data": {
      "text/plain": [
       "[{'nodes': [Node('Movie', constraints=[], indexes=[], name='Movie')],\n",
       "  'relationships': []}]"
      ]
     },
     "execution_count": 12,
     "metadata": {},
     "output_type": "execute_result"
    }
   ],
   "source": [
    "graph.run(\"CALL db.schema.visualization()\").data()"
   ]
  },
  {
   "attachments": {},
   "cell_type": "markdown",
   "metadata": {},
   "source": [
    "This is the Output in Neo4J\n",
    "\n",
    "\n",
    "<div align=\"center\">\n",
    "    <img src=\"https://user-images.githubusercontent.com/54445900/163680788-d276c860-2c12-440c-b8c9-218ea27005c4.png\" alt=\"Neo4j Nodes\"/>\n",
    "</div>"
   ]
  },
  {
   "cell_type": "markdown",
   "metadata": {},
   "source": [
    "## Creating Relationship between movie, Directors and Actors"
   ]
  },
  {
   "cell_type": "code",
   "execution_count": 13,
   "metadata": {},
   "outputs": [
    {
     "data": {
      "text/plain": [
       "<neo4j.work.result.Result at 0x14fdc7220>"
      ]
     },
     "execution_count": 13,
     "metadata": {},
     "output_type": "execute_result"
    }
   ],
   "source": [
    "Dir_Movie_Act_rel = \"\"\"\n",
    "create (m:Movie)<-[:Directed]-(d:Director)-[:Actors_Directed]->(a:Actor)\n",
    "RETURN m\n",
    "\"\"\"\n",
    "\n",
    "Movie_Writer_rel =\"\"\"\n",
    "CREATE (m:Movie)-[:Writer]->(w:Writers)\n",
    "Return m\n",
    "\"\"\"\n",
    "\n",
    "Movie_Rating_rel =\"\"\"\n",
    "CREATE (m:Movie)-[:Rated]->(r:Rating)\n",
    "Return m\n",
    "\"\"\"\n",
    "\n",
    "Actor_Movie_rel =\"\"\"\n",
    "CREATE (a:Actor)-[:Cast_Of]->(m:Movie)\n",
    "Return m\n",
    "\"\"\"\n",
    "graphdri = GraphDatabase.driver(uri=\"bolt://localhost:11010\", auth=(\"neo4j\", \"neo\")) \n",
    "sessions=graphdri.session()\n",
    "sessions.run(Dir_Movie_Act_rel)\n",
    "sessions.run(Movie_Writer_rel)\n",
    "sessions.run(Movie_Rating_rel)\n",
    "sessions.run(Actor_Movie_rel)"
   ]
  },
  {
   "cell_type": "code",
   "execution_count": 14,
   "metadata": {},
   "outputs": [
    {
     "data": {
      "text/plain": [
       "[{'nodes': [Node('Movie', constraints=[], indexes=[], name='Movie'),\n",
       "   Node('Writers', constraints=[], indexes=[], name='Writers'),\n",
       "   Node('Actor', constraints=[], indexes=[], name='Actor'),\n",
       "   Node('Rating', constraints=[], indexes=[], name='Rating'),\n",
       "   Node('Director', constraints=[], indexes=[], name='Director')],\n",
       "  'relationships': [Rated(Node(), Node()),\n",
       "   Cast_Of(Node(), Node()),\n",
       "   Actors_Directed(Node(), Node()),\n",
       "   Directed(Node(), Node()),\n",
       "   Writer(Node(), Node())]}]"
      ]
     },
     "execution_count": 14,
     "metadata": {},
     "output_type": "execute_result"
    }
   ],
   "source": [
    "graph.run(\"CALL db.schema.visualization()\").data()"
   ]
  },
  {
   "attachments": {},
   "cell_type": "markdown",
   "metadata": {},
   "source": [
    "If you Run this in Neo4j this is what you get:\n",
    "<div align=\"left\">\n",
    "    <img src=\"https://user-images.githubusercontent.com/54445900/163680832-72ab9049-7438-41a5-82e5-313b1a7720ec.png\" alt=\"Neo4j Schema\"/>\n",
    "</div>\n",
    "\n"
   ]
  },
  {
   "cell_type": "code",
   "execution_count": 16,
   "metadata": {},
   "outputs": [
    {
     "data": {
      "text/plain": [
       "[{'n': Node('Movie', Actor_Names='Julie Andrews, Christopher Plummer, Eleanor Parker', Director='Robert Wise', Rating='8.0', Title='The Sound of Music', Writer='George Hurdalek, Howard Lindsay, Russel Crouse')},\n",
       " {'n': Node('Movie', Actor_Names='Henry Fonda, Lee J. Cobb, Martin Balsam', Director='Sidney Lumet', Rating='9.0', Title='12 Angry Men', Writer='Reginald Rose')},\n",
       " {'n': Node('Movie', Actor_Names='Natalie Wood, George Chakiris, Richard Beymer', Director='Jerome Robbins, Robert Wise', Rating='7.5', Title='West Side Story', Writer='Ernest Lehman, Arthur Laurents, Jerome Robbins')},\n",
       " {'n': Node('Movie', Actor_Names='Mark Hamill, Harrison Ford, Carrie Fisher', Director='George Lucas', Rating='8.6', Title='Star Wars', Writer='George Lucas')},\n",
       " {'n': Node('Movie', Actor_Names='Keir Dullea, Gary Lockwood, William Sylvester', Director='Stanley Kubrick', Rating='8.3', Title='2001: A Space Odyssey', Writer='Stanley Kubrick, Arthur C. Clarke')},\n",
       " {'n': Node('Movie', Actor_Names='Henry Thomas, Drew Barrymore, Peter Coyote', Director='Steven Spielberg', Rating='7.9', Title='E.T. the Extra-Terrestrial', Writer='Melissa Mathison')},\n",
       " {'n': Node('Movie', Actor_Names='Jodie Foster, Anthony Hopkins, Lawrence A. Bonney', Director='Jonathan Demme', Rating='8.6', Title='The Silence of the Lambs', Writer='Thomas Harris, Ted Tally')},\n",
       " {'n': Node('Movie', Actor_Names='Jack Nicholson, Faye Dunaway, John Huston', Director='Roman Polanski', Rating='8.2', Title='Chinatown', Writer='Robert Towne, Roman Polanski')},\n",
       " {'n': Node('Movie', Actor_Names='William Holden, Alec Guinness, Jack Hawkins', Director='David Lean', Rating='8.1', Title='The Bridge on the River Kwai', Writer='Pierre Boulle, Carl Foreman, Michael Wilson')},\n",
       " {'n': Node('Movie', Actor_Names='Gene Kelly, Donald OConnor, Debbie Reynolds', Director='Stanley Donen, Gene Kelly', Rating='8.3', Title='Singin in the Rain', Writer='Betty Comden, Adolph Green')},\n",
       " {'n': Node('Movie', Actor_Names='James Stewart, Donna Reed, Lionel Barrymore', Director='Frank Capra', Rating='8.7', Title='Its a Wonderful Life', Writer='Frances Goodrich, Albert Hackett, Frank Capra')},\n",
       " {'n': Node('Movie', Actor_Names='Peter Sellers, George C. Scott, Sterling Hayden', Director='Stanley Kubrick', Rating='8.4', Title='Dr. Strangelove or: How I Learned to Stop Worrying and Love the Bomb', Writer='Stanley Kubrick, Terry Southern, Peter George')},\n",
       " {'n': Node('Movie', Actor_Names='Marilyn Monroe, Tony Curtis, Jack Lemmon', Director='Billy Wilder', Rating='8.2', Title='Some Like It Hot', Writer='Billy Wilder, I.A.L. Diamond, Robert Thoeren')},\n",
       " {'n': Node('Movie', Actor_Names='Charlton Heston, Jack Hawkins, Stephen Boyd', Director='William Wyler', Rating='8.1', Title='Ben-Hur', Writer='Lew Wallace, Karl Tunberg, Gore Vidal')},\n",
       " {'n': Node('Movie', Actor_Names='Martin Sheen, Marlon Brando, Robert Duvall', Director='Francis Ford Coppola', Rating='8.5', Title='Apocalypse Now', Writer='John Milius, Francis Ford Coppola, Michael Herr')},\n",
       " {'n': Node('Movie', Actor_Names='F. Murray Abraham, Tom Hulce, Elizabeth Berridge', Director='Milos Forman', Rating='8.4', Title='Amadeus', Writer='Peter Shaffer, Zdenek Mahler')},\n",
       " {'n': Node('Movie', Actor_Names='Elijah Wood, Viggo Mortensen, Ian McKellen', Director='Peter Jackson', Rating='9.0', Title='The Lord of the Rings: The Return of the King', Writer='J.R.R. Tolkien, Fran Walsh, Philippa Boyens')},\n",
       " {'n': Node('Movie', Actor_Names='Russell Crowe, Joaquin Phoenix, Connie Nielsen', Director='Ridley Scott', Rating='8.5', Title='Gladiator', Writer='David Franzoni, John Logan, William Nicholson')},\n",
       " {'n': Node('Movie', Actor_Names='Leonardo DiCaprio, Kate Winslet, Billy Zane', Director='James Cameron', Rating='7.8', Title='Titanic', Writer='James Cameron')},\n",
       " {'n': Node('Movie', Actor_Names='Burt Lancaster, Montgomery Clift, Deborah Kerr', Director='Fred Zinnemann', Rating='7.6', Title='From Here to Eternity', Writer='Daniel Taradash, James Jones')},\n",
       " {'n': Node('Movie', Actor_Names='Tom Hanks, Matt Damon, Tom Sizemore', Director='Steven Spielberg', Rating='8.6', Title='Saving Private Ryan', Writer='Robert Rodat')},\n",
       " {'n': Node('Movie', Actor_Names='Clint Eastwood, Gene Hackman, Morgan Freeman', Director='Clint Eastwood', Rating='8.2', Title='Unforgiven', Writer='David Webb Peoples')},\n",
       " {'n': Node('Movie', Actor_Names='Harrison Ford, Karen Allen, Paul Freeman', Director='Steven Spielberg', Rating='8.4', Title='Indiana Jones and the Raiders of the Lost Ark', Writer='Lawrence Kasdan, George Lucas, Philip Kaufman')},\n",
       " {'n': Node('Movie', Actor_Names='Sylvester Stallone, Talia Shire, Burt Young', Director='John G. Avildsen', Rating='8.1', Title='Rocky', Writer='Sylvester Stallone')},\n",
       " {'n': Node('Movie', Actor_Names='Vivien Leigh, Marlon Brando, Kim Hunter', Director='Elia Kazan', Rating='8.0', Title='A Streetcar Named Desire', Writer='Tennessee Williams, Oscar Saul')},\n",
       " {'n': Node('Movie', Actor_Names='Cary Grant, Katharine Hepburn, James Stewart', Director='George Cukor', Rating='7.9', Title='The Philadelphia Story', Writer='Donald Ogden Stewart, Philip Barry, Waldo Salt')},\n",
       " {'n': Node('Movie', Actor_Names='Gregory Peck, John Megna, Frank Overton', Director='Robert Mulligan', Rating='8.3', Title='To Kill a Mockingbird', Writer='Harper Lee, Horton Foote')},\n",
       " {'n': Node('Movie', Actor_Names='Gene Kelly, Leslie Caron, Oscar Levant', Director='Vincente Minnelli', Rating='7.2', Title='An American in Paris', Writer='Alan Jay Lerner')},\n",
       " {'n': Node('Movie', Actor_Names='Myrna Loy, Dana Andrews, Fredric March', Director='William Wyler', Rating='8.1', Title='The Best Years of Our Lives', Writer='Robert E. Sherwood, MacKinlay Kantor')},\n",
       " {'n': Node('Movie', Actor_Names='Audrey Hepburn, Rex Harrison, Stanley Holloway', Director='George Cukor', Rating='7.8', Title='My Fair Lady', Writer='Alan Jay Lerner, George Bernard Shaw')},\n",
       " {'n': Node('Movie', Actor_Names='Malcolm McDowell, Patrick Magee, Michael Bates', Director='Stanley Kubrick', Rating='8.3', Title='A Clockwork Orange', Writer='Stanley Kubrick, Anthony Burgess')},\n",
       " {'n': Node('Movie', Actor_Names='Omar Sharif, Julie Christie, Geraldine Chaplin', Director='David Lean', Rating='8.0', Title='Doctor Zhivago', Writer='Boris Pasternak, Robert Bolt')},\n",
       " {'n': Node('Movie', Actor_Names='John Wayne, Jeffrey Hunter, Vera Miles', Director='John Ford', Rating='7.9', Title='The Searchers', Writer='Frank S. Nugent, Alan Le May')},\n",
       " {'n': Node('Movie', Actor_Names='Roy Scheider, Robert Shaw, Richard Dreyfuss', Director='Steven Spielberg', Rating='8.1', Title='Jaws', Writer='Peter Benchley, Carl Gottlieb')},\n",
       " {'n': Node('Movie', Actor_Names='George C. Scott, Karl Malden, Stephen Young', Director='Franklin J. Schaffner', Rating='8.0', Title='Patton', Writer='Francis Ford Coppola, Edmund H. North, Ladislas Farago')},\n",
       " {'n': Node('Movie', Actor_Names='Paul Newman, Robert Redford, Katharine Ross', Director='George Roy Hill', Rating='8.0', Title='Butch Cassidy and the Sundance Kid', Writer='William Goldman')},\n",
       " {'n': Node('Movie', Actor_Names='Humphrey Bogart, Walter Huston, Tim Holt', Director='John Huston', Rating='8.2', Title='The Treasure of the Sierra Madre', Writer='John Huston, B. Traven')},\n",
       " {'n': Node('Movie', Actor_Names='Jack Lemmon, Shirley MacLaine, Fred MacMurray', Director='Billy Wilder', Rating='8.3', Title='The Apartment', Writer='Billy Wilder, I.A.L. Diamond')},\n",
       " {'n': Node('Movie', Actor_Names='Charlie Sheen, Tom Berenger, Willem Dafoe', Director='Oliver Stone', Rating='8.1', Title='Platoon', Writer='Oliver Stone')},\n",
       " {'n': Node('Movie', Actor_Names='Gary Cooper, Grace Kelly, Thomas Mitchell', Director='Fred Zinnemann', Rating='8.0', Title='High Noon', Writer='Carl Foreman, John W. Cunningham')},\n",
       " {'n': Node('Movie', Actor_Names='Mel Gibson, Sophie Marceau, Patrick McGoohan', Director='Mel Gibson', Rating='8.4', Title='Braveheart', Writer='Randall Wallace')},\n",
       " {'n': Node('Movie', Actor_Names='Kevin Costner, Mary McDonnell, Graham Greene', Director='Kevin Costner', Rating='8.1', Title='Dances with Wolves', Writer='Michael Blake')},\n",
       " {'n': Node('Movie', Actor_Names='Sam Neill, Laura Dern, Jeff Goldblum', Director='Steven Spielberg', Rating='8.1', Title='Jurassic Park', Writer='Michael Crichton, David Koepp')},\n",
       " {'n': Node('Movie', Actor_Names='Ellen Burstyn, Max von Sydow, Linda Blair', Director='William Friedkin', Rating='8.1', Title='The Exorcist', Writer='William Peter Blatty')},\n",
       " {'n': Node('Movie', Actor_Names='Adrien Brody, Thomas Kretschmann, Frank Finlay', Director='Roman Polanski', Rating='8.6', Title='The Pianist', Writer='Ronald Harwood, Wladyslaw Szpilman')},\n",
       " {'n': Node('Movie', Actor_Names='Robert De Niro, Ray Liotta, Joe Pesci', Director='Martin Scorsese', Rating='8.7', Title='Goodfellas', Writer='Nicholas Pileggi, Martin Scorsese')},\n",
       " {'n': Node('Movie', Actor_Names='Robert De Niro, Christopher Walken, John Cazale', Director='Michael Cimino', Rating='8.1', Title='The Deer Hunter', Writer='Michael Cimino, Deric Washburn, Louis Garfinkle')},\n",
       " {'n': Node('Movie', Actor_Names='Lew Ayres, Louis Wolheim, John Wray', Director='Lewis Milestone', Rating='8.1', Title='All Quiet on the Western Front', Writer='Erich Maria Remarque, Maxwell Anderson, George Abbott')},\n",
       " {'n': Node('Movie', Actor_Names='Warren Beatty, Faye Dunaway, Michael J. Pollard', Director='Arthur Penn', Rating='7.8', Title='Bonnie and Clyde', Writer='David Newman, Robert Benton, Robert Towne')},\n",
       " {'n': Node('Movie', Actor_Names='Gene Hackman, Roy Scheider, Fernando Rey', Director='William Friedkin', Rating='7.7', Title='The French Connection', Writer='Ernest Tidyman, Robin Moore')},\n",
       " {'n': Node('Movie', Actor_Names='Charles Chaplin, Virginia Cherrill, Florence Lee', Director='Charles Chaplin', Rating='8.5', Title='City Lights', Writer='Charles Chaplin, Harry Carr, Harry Crocker')},\n",
       " {'n': Node('Movie', Actor_Names='Clark Gable, Claudette Colbert, Walter Connolly', Director='Frank Capra', Rating='8.1', Title='It Happened One Night', Writer='Robert Riskin, Samuel Hopkins Adams')},\n",
       " {'n': Node('Movie', Actor_Names='Montgomery Clift, Elizabeth Taylor, Shelley Winters', Director='George Stevens', Rating='7.8', Title='A Place in the Sun', Writer='Theodore Dreiser, Patrick Kearney, Michael Wilson')},\n",
       " {'n': Node('Movie', Actor_Names='Dustin Hoffman, Jon Voight, Sylvia Miles', Director='John Schlesinger', Rating='7.8', Title='Midnight Cowboy', Writer='Waldo Salt, James Leo Herlihy')},\n",
       " {'n': Node('Movie', Actor_Names='James Stewart, Jean Arthur, Claude Rains', Director='Frank Capra', Rating='8.1', Title='Mr. Smith Goes to Washington', Writer='Sidney Buchman, Lewis R. Foster, Myles Connolly')},\n",
       " {'n': Node('Movie', Actor_Names='Dustin Hoffman, Tom Cruise, Valeria Golino', Director='Barry Levinson', Rating='8.0', Title='Rain Man', Writer='Barry Morrow, Ronald Bass')},\n",
       " {'n': Node('Movie', Actor_Names='Woody Allen, Diane Keaton, Tony Roberts', Director='Woody Allen', Rating='8.0', Title='Annie Hall', Writer='Woody Allen, Marshall Brickman')},\n",
       " {'n': Node('Movie', Actor_Names='William H. Macy, Frances McDormand, Steve Buscemi', Director='Joel Coen, Ethan Coen', Rating='8.1', Title='Fargo', Writer='Ethan Coen, Joel Coen')},\n",
       " {'n': Node('Movie', Actor_Names='Elizabeth Taylor, Rock Hudson, James Dean', Director='George Stevens', Rating='7.6', Title='Giant', Writer='Edna Ferber, Fred Guiol, Ivan Moffat')},\n",
       " {'n': Node('Movie', Actor_Names='Alan Ladd, Jean Arthur, Van Heflin', Director='George Stevens', Rating='7.6', Title='Shane', Writer='A.B. Guthrie Jr., Jack Sher, Jack Schaefer')},\n",
       " {'n': Node('Movie', Actor_Names='Henry Fonda, Jane Darwell, John Carradine', Director='John Ford', Rating='8.1', Title='The Grapes of Wrath', Writer='Nunnally Johnson, John Steinbeck')},\n",
       " {'n': Node('Movie', Actor_Names='Tom Hanks, Michael Clarke Duncan, David Morse', Director='Frank Darabont', Rating='8.6', Title='The Green Mile', Writer='Stephen King, Frank Darabont')},\n",
       " {'n': Node('Movie', Actor_Names='Richard Dreyfuss, François Truffaut, Teri Garr', Director='Steven Spielberg', Rating='7.6', Title='Close Encounters of the Third Kind', Writer='Steven Spielberg, Hal Barwood, Jerry Belson')},\n",
       " {'n': Node('Movie', Actor_Names='Keith Carradine, Karen Black, Ronee Blakley', Director='Robert Altman', Rating='7.7', Title='Nashville', Writer='Joan Tewkesbury')},\n",
       " {'n': Node('Movie', Actor_Names='Faye Dunaway, William Holden, Peter Finch', Director='Sidney Lumet', Rating='8.1', Title='Network', Writer='Paddy Chayefsky')},\n",
       " {'n': Node('Movie', Actor_Names='Dustin Hoffman, Anne Bancroft, Katharine Ross', Director='Mike Nichols', Rating='8.0', Title='The Graduate', Writer='Calder Willingham, Buck Henry, Charles Webb')},\n",
       " {'n': Node('Movie', Actor_Names='Richard Dreyfuss, Ron Howard, Paul Le Mat', Director='George Lucas', Rating='7.4', Title='American Graffiti', Writer='George Lucas, Gloria Katz, Willard Huyck')},\n",
       " {'n': Node('Movie', Actor_Names='John Travolta, Uma Thurman, Samuel L. Jackson', Director='Quentin Tarantino', Rating='8.9', Title='Pulp Fiction', Writer='Quentin Tarantino, Roger Avary')},\n",
       " {'n': Node('Movie', Actor_Names='Shirley MacLaine, Debra Winger, Jack Nicholson', Director='James L. Brooks', Rating='7.4', Title='Terms of Endearment', Writer='Larry McMurtry, James L. Brooks')},\n",
       " {'n': Node('Movie', Actor_Names='Robin Williams, Matt Damon, Ben Affleck', Director='Gus Van Sant', Rating='8.3', Title='Good Will Hunting', Writer='Matt Damon, Ben Affleck')},\n",
       " {'n': Node('Movie', Actor_Names='Humphrey Bogart, Katharine Hepburn, Robert Morley', Director='John Huston', Rating='7.8', Title='The African Queen', Writer='C.S. Forester, James Agee, John Huston')},\n",
       " {'n': Node('Movie', Actor_Names='John Wayne, Claire Trevor, Andy Devine', Director='John Ford', Rating='7.8', Title='Stagecoach', Writer='Ernest Haycox, Dudley Nichols, Ben Hecht')},\n",
       " {'n': Node('Movie', Actor_Names='Charles Laughton, Clark Gable, Franchot Tone', Director='Frank Lloyd', Rating='7.7', Title='Mutiny on the Bounty', Writer='Talbot Jennings, Jules Furthman, Carey Wilson')},\n",
       " {'n': Node('Movie', Actor_Names='Charles Chaplin, Paulette Goddard, Jack Oakie', Director='Charles Chaplin', Rating='8.4', Title='The Great Dictator', Writer='Charles Chaplin')},\n",
       " {'n': Node('Movie', Actor_Names='Fred MacMurray, Barbara Stanwyck, Edward G. Robinson', Director='Billy Wilder', Rating='8.3', Title='Double Indemnity', Writer='Billy Wilder, Raymond Chandler, James M. Cain')},\n",
       " {'n': Node('Movie', Actor_Names='Humphrey Bogart, Mary Astor, Gladys George', Director='John Huston', Rating='8.0', Title='The Maltese Falcon', Writer='John Huston, Dashiell Hammett')},\n",
       " {'n': Node('Movie', Actor_Names='Merle Oberon, Laurence Olivier, David Niven', Director='William Wyler', Rating='7.6', Title='Wuthering Heights', Writer='Charles MacArthur, Ben Hecht, Emily Brontë')},\n",
       " {'n': Node('Movie', Actor_Names='Robert De Niro, Jodie Foster, Cybill Shepherd', Director='Martin Scorsese', Rating='8.2', Title='Taxi Driver', Writer='Paul Schrader')},\n",
       " {'n': Node('Movie', Actor_Names='James Stewart, Grace Kelly, Wendell Corey', Director='Alfred Hitchcock', Rating='8.5', Title='Rear Window', Writer='John Michael Hayes, Cornell Woolrich')},\n",
       " {'n': Node('Movie', Actor_Names='Orson Welles, Joseph Cotten, Alida Valli', Director='Carol Reed', Rating='8.1', Title='The Third Man', Writer='Graham Greene, Orson Welles, Alexander Korda')},\n",
       " {'n': Node('Movie', Actor_Names='James Dean, Natalie Wood, Sal Mineo', Director='Nicholas Ray', Rating='7.7', Title='Rebel Without a Cause', Writer='Stewart Stern, Irving Shulman, Nicholas Ray')},\n",
       " {'n': Node('Movie', Actor_Names='Cary Grant, Eva Marie Saint, James Mason', Director='Alfred Hitchcock', Rating='8.3', Title='North by Northwest', Writer='Ernest Lehman')},\n",
       " {'n': Node('Movie', Actor_Names='James Cagney, Joan Leslie, Walter Huston', Director='Michael Curtiz', Rating='7.6', Title='Yankee Doodle Dandy', Writer='Robert Buckner, Edmund Joseph, Julius J. Epstein')},\n",
       " {'n': Node('Movie', Actor_Names='Marlon Brando, Al Pacino, James Caan', Director='Francis Ford Coppola', Rating='9.2', Title='The Godfather', Writer='Mario Puzo, Francis Ford Coppola')},\n",
       " {'n': Node('Movie', Actor_Names='Tim Robbins, Morgan Freeman, Bob Gunton', Director='Frank Darabont', Rating='9.3', Title='The Shawshank Redemption', Writer='Stephen King, Frank Darabont')},\n",
       " {'n': Node('Movie', Actor_Names='Liam Neeson, Ralph Fiennes, Ben Kingsley', Director='Steven Spielberg', Rating='8.9', Title='Schindlers List', Writer='Thomas Keneally, Steven Zaillian')},\n",
       " {'n': Node('Movie', Actor_Names='Robert De Niro, Cathy Moriarty, Joe Pesci', Director='Martin Scorsese', Rating='8.2', Title='Raging Bull', Writer='Jake LaMotta, Joseph Carter, Peter Savage')},\n",
       " {'n': Node('Movie', Actor_Names='Humphrey Bogart, Ingrid Bergman, Paul Henreid', Director='Michael Curtiz', Rating='8.5', Title='Casablanca', Writer='Julius J. Epstein, Philip G. Epstein, Howard Koch')},\n",
       " {'n': Node('Movie', Actor_Names='Orson Welles, Joseph Cotten, Dorothy Comingore', Director='Orson Welles', Rating='8.3', Title='Citizen Kane', Writer='Herman J. Mankiewicz, Orson Welles, John Houseman')},\n",
       " {'n': Node('Movie', Actor_Names='Clark Gable, Vivien Leigh, Thomas Mitchell', Director='Victor Fleming, George Cukor, Sam Wood', Rating='8.2', Title='Gone with the Wind', Writer='Margaret Mitchell, Sidney Howard, Oliver H.P. Garrett')},\n",
       " {'n': Node('Movie', Actor_Names='Judy Garland, Frank Morgan, Ray Bolger', Director='Victor Fleming, George Cukor, Mervyn LeRoy', Rating='8.1', Title='The Wizard of Oz', Writer='Noel Langley, Florence Ryerson, Edgar Allan Woolf')},\n",
       " {'n': Node('Movie', Actor_Names='Jack Nicholson, Louise Fletcher, Michael Berryman', Director='Milos Forman', Rating='8.7', Title='One Flew Over the Cuckoos Nest', Writer='Lawrence Hauben, Bo Goldman, Ken Kesey')},\n",
       " {'n': Node('Movie', Actor_Names='Peter OToole, Alec Guinness, Anthony Quinn', Director='David Lean', Rating='8.3', Title='Lawrence of Arabia', Writer='Robert Bolt, Michael Wilson')},\n",
       " {'n': Node('Movie', Actor_Names='James Stewart, Kim Novak, Barbara Bel Geddes', Director='Alfred Hitchcock', Rating='8.3', Title='Vertigo', Writer='Alec Coppel, Samuel A. Taylor, Pierre Boileau')},\n",
       " {'n': Node('Movie', Actor_Names='Anthony Perkins, Janet Leigh, Vera Miles', Director='Alfred Hitchcock', Rating='8.5', Title='Psycho', Writer='Joseph Stefano, Robert Bloch')},\n",
       " {'n': Node('Movie', Actor_Names='Al Pacino, Robert De Niro, Robert Duvall', Director='Francis Ford Coppola', Rating='9.0', Title='The Godfather: Part II', Writer='Francis Ford Coppola, Mario Puzo')},\n",
       " {'n': Node('Movie', Actor_Names='Marlon Brando, Karl Malden, Lee J. Cobb', Director='Elia Kazan', Rating='8.1', Title='On the Waterfront', Writer='Budd Schulberg, Malcolm Johnson, Robert Siodmak')},\n",
       " {'n': Node('Movie', Actor_Names='William Holden, Gloria Swanson, Erich von Stroheim', Director='Billy Wilder', Rating='8.4', Title='Sunset Blvd.', Writer='Charles Brackett, Billy Wilder, D.M. Marshman Jr.')},\n",
       " {'n': Node('Movie', Actor_Names='Tom Hanks, Robin Wright, Gary Sinise', Director='Robert Zemeckis', Rating='8.8', Title='Forrest Gump', Writer='Winston Groom, Eric Roth')},\n",
       " {'n': Node('Movie', Actor_Names='Julie Andrews, Christopher Plummer, Eleanor Parker', Director='Robert Wise', Rating='8.0', Title='The Sound of Music', Writer='George Hurdalek, Howard Lindsay, Russel Crouse')},\n",
       " {'n': Node('Movie', Actor_Names='Henry Fonda, Lee J. Cobb, Martin Balsam', Director='Sidney Lumet', Rating='9.0', Title='12 Angry Men', Writer='Reginald Rose')},\n",
       " {'n': Node('Movie', Actor_Names='Natalie Wood, George Chakiris, Richard Beymer', Director='Jerome Robbins, Robert Wise', Rating='7.5', Title='West Side Story', Writer='Ernest Lehman, Arthur Laurents, Jerome Robbins')},\n",
       " {'n': Node('Movie', Actor_Names='Mark Hamill, Harrison Ford, Carrie Fisher', Director='George Lucas', Rating='8.6', Title='Star Wars', Writer='George Lucas')},\n",
       " {'n': Node('Movie', Actor_Names='Keir Dullea, Gary Lockwood, William Sylvester', Director='Stanley Kubrick', Rating='8.3', Title='2001: A Space Odyssey', Writer='Stanley Kubrick, Arthur C. Clarke')},\n",
       " {'n': Node('Movie', Actor_Names='Henry Thomas, Drew Barrymore, Peter Coyote', Director='Steven Spielberg', Rating='7.9', Title='E.T. the Extra-Terrestrial', Writer='Melissa Mathison')},\n",
       " {'n': Node('Movie', Actor_Names='Jodie Foster, Anthony Hopkins, Lawrence A. Bonney', Director='Jonathan Demme', Rating='8.6', Title='The Silence of the Lambs', Writer='Thomas Harris, Ted Tally')},\n",
       " {'n': Node('Movie', Actor_Names='Jack Nicholson, Faye Dunaway, John Huston', Director='Roman Polanski', Rating='8.2', Title='Chinatown', Writer='Robert Towne, Roman Polanski')},\n",
       " {'n': Node('Movie', Actor_Names='William Holden, Alec Guinness, Jack Hawkins', Director='David Lean', Rating='8.1', Title='The Bridge on the River Kwai', Writer='Pierre Boulle, Carl Foreman, Michael Wilson')},\n",
       " {'n': Node('Movie', Actor_Names='Gene Kelly, Donald OConnor, Debbie Reynolds', Director='Stanley Donen, Gene Kelly', Rating='8.3', Title='Singin in the Rain', Writer='Betty Comden, Adolph Green')},\n",
       " {'n': Node('Movie', Actor_Names='James Stewart, Donna Reed, Lionel Barrymore', Director='Frank Capra', Rating='8.7', Title='Its a Wonderful Life', Writer='Frances Goodrich, Albert Hackett, Frank Capra')},\n",
       " {'n': Node('Movie', Actor_Names='Peter Sellers, George C. Scott, Sterling Hayden', Director='Stanley Kubrick', Rating='8.4', Title='Dr. Strangelove or: How I Learned to Stop Worrying and Love the Bomb', Writer='Stanley Kubrick, Terry Southern, Peter George')},\n",
       " {'n': Node('Movie', Actor_Names='Marilyn Monroe, Tony Curtis, Jack Lemmon', Director='Billy Wilder', Rating='8.2', Title='Some Like It Hot', Writer='Billy Wilder, I.A.L. Diamond, Robert Thoeren')},\n",
       " {'n': Node('Movie', Actor_Names='Charlton Heston, Jack Hawkins, Stephen Boyd', Director='William Wyler', Rating='8.1', Title='Ben-Hur', Writer='Lew Wallace, Karl Tunberg, Gore Vidal')},\n",
       " {'n': Node('Movie', Actor_Names='Martin Sheen, Marlon Brando, Robert Duvall', Director='Francis Ford Coppola', Rating='8.5', Title='Apocalypse Now', Writer='John Milius, Francis Ford Coppola, Michael Herr')},\n",
       " {'n': Node('Movie', Actor_Names='F. Murray Abraham, Tom Hulce, Elizabeth Berridge', Director='Milos Forman', Rating='8.4', Title='Amadeus', Writer='Peter Shaffer, Zdenek Mahler')},\n",
       " {'n': Node('Movie', Actor_Names='Elijah Wood, Viggo Mortensen, Ian McKellen', Director='Peter Jackson', Rating='9.0', Title='The Lord of the Rings: The Return of the King', Writer='J.R.R. Tolkien, Fran Walsh, Philippa Boyens')},\n",
       " {'n': Node('Movie', Actor_Names='Russell Crowe, Joaquin Phoenix, Connie Nielsen', Director='Ridley Scott', Rating='8.5', Title='Gladiator', Writer='David Franzoni, John Logan, William Nicholson')},\n",
       " {'n': Node('Movie', Actor_Names='Leonardo DiCaprio, Kate Winslet, Billy Zane', Director='James Cameron', Rating='7.8', Title='Titanic', Writer='James Cameron')},\n",
       " {'n': Node('Movie', Actor_Names='Burt Lancaster, Montgomery Clift, Deborah Kerr', Director='Fred Zinnemann', Rating='7.6', Title='From Here to Eternity', Writer='Daniel Taradash, James Jones')},\n",
       " {'n': Node('Movie', Actor_Names='Tom Hanks, Matt Damon, Tom Sizemore', Director='Steven Spielberg', Rating='8.6', Title='Saving Private Ryan', Writer='Robert Rodat')},\n",
       " {'n': Node('Movie', Actor_Names='Clint Eastwood, Gene Hackman, Morgan Freeman', Director='Clint Eastwood', Rating='8.2', Title='Unforgiven', Writer='David Webb Peoples')},\n",
       " {'n': Node('Movie', Actor_Names='Harrison Ford, Karen Allen, Paul Freeman', Director='Steven Spielberg', Rating='8.4', Title='Indiana Jones and the Raiders of the Lost Ark', Writer='Lawrence Kasdan, George Lucas, Philip Kaufman')},\n",
       " {'n': Node('Movie', Actor_Names='Sylvester Stallone, Talia Shire, Burt Young', Director='John G. Avildsen', Rating='8.1', Title='Rocky', Writer='Sylvester Stallone')},\n",
       " {'n': Node('Movie', Actor_Names='Vivien Leigh, Marlon Brando, Kim Hunter', Director='Elia Kazan', Rating='8.0', Title='A Streetcar Named Desire', Writer='Tennessee Williams, Oscar Saul')},\n",
       " {'n': Node('Movie', Actor_Names='Cary Grant, Katharine Hepburn, James Stewart', Director='George Cukor', Rating='7.9', Title='The Philadelphia Story', Writer='Donald Ogden Stewart, Philip Barry, Waldo Salt')},\n",
       " {'n': Node('Movie', Actor_Names='Gregory Peck, John Megna, Frank Overton', Director='Robert Mulligan', Rating='8.3', Title='To Kill a Mockingbird', Writer='Harper Lee, Horton Foote')},\n",
       " {'n': Node('Movie', Actor_Names='Gene Kelly, Leslie Caron, Oscar Levant', Director='Vincente Minnelli', Rating='7.2', Title='An American in Paris', Writer='Alan Jay Lerner')},\n",
       " {'n': Node('Movie', Actor_Names='Myrna Loy, Dana Andrews, Fredric March', Director='William Wyler', Rating='8.1', Title='The Best Years of Our Lives', Writer='Robert E. Sherwood, MacKinlay Kantor')},\n",
       " {'n': Node('Movie', Actor_Names='Audrey Hepburn, Rex Harrison, Stanley Holloway', Director='George Cukor', Rating='7.8', Title='My Fair Lady', Writer='Alan Jay Lerner, George Bernard Shaw')},\n",
       " {'n': Node('Movie', Actor_Names='Malcolm McDowell, Patrick Magee, Michael Bates', Director='Stanley Kubrick', Rating='8.3', Title='A Clockwork Orange', Writer='Stanley Kubrick, Anthony Burgess')},\n",
       " {'n': Node('Movie', Actor_Names='Omar Sharif, Julie Christie, Geraldine Chaplin', Director='David Lean', Rating='8.0', Title='Doctor Zhivago', Writer='Boris Pasternak, Robert Bolt')},\n",
       " {'n': Node('Movie', Actor_Names='John Wayne, Jeffrey Hunter, Vera Miles', Director='John Ford', Rating='7.9', Title='The Searchers', Writer='Frank S. Nugent, Alan Le May')},\n",
       " {'n': Node('Movie', Actor_Names='Roy Scheider, Robert Shaw, Richard Dreyfuss', Director='Steven Spielberg', Rating='8.1', Title='Jaws', Writer='Peter Benchley, Carl Gottlieb')},\n",
       " {'n': Node('Movie', Actor_Names='George C. Scott, Karl Malden, Stephen Young', Director='Franklin J. Schaffner', Rating='8.0', Title='Patton', Writer='Francis Ford Coppola, Edmund H. North, Ladislas Farago')},\n",
       " {'n': Node('Movie', Actor_Names='Paul Newman, Robert Redford, Katharine Ross', Director='George Roy Hill', Rating='8.0', Title='Butch Cassidy and the Sundance Kid', Writer='William Goldman')},\n",
       " {'n': Node('Movie', Actor_Names='Humphrey Bogart, Walter Huston, Tim Holt', Director='John Huston', Rating='8.2', Title='The Treasure of the Sierra Madre', Writer='John Huston, B. Traven')},\n",
       " {'n': Node('Movie', Actor_Names='Jack Lemmon, Shirley MacLaine, Fred MacMurray', Director='Billy Wilder', Rating='8.3', Title='The Apartment', Writer='Billy Wilder, I.A.L. Diamond')},\n",
       " {'n': Node('Movie', Actor_Names='Charlie Sheen, Tom Berenger, Willem Dafoe', Director='Oliver Stone', Rating='8.1', Title='Platoon', Writer='Oliver Stone')},\n",
       " {'n': Node('Movie', Actor_Names='Gary Cooper, Grace Kelly, Thomas Mitchell', Director='Fred Zinnemann', Rating='8.0', Title='High Noon', Writer='Carl Foreman, John W. Cunningham')},\n",
       " {'n': Node('Movie', Actor_Names='Mel Gibson, Sophie Marceau, Patrick McGoohan', Director='Mel Gibson', Rating='8.4', Title='Braveheart', Writer='Randall Wallace')},\n",
       " {'n': Node('Movie', Actor_Names='Kevin Costner, Mary McDonnell, Graham Greene', Director='Kevin Costner', Rating='8.1', Title='Dances with Wolves', Writer='Michael Blake')},\n",
       " {'n': Node('Movie', Actor_Names='Sam Neill, Laura Dern, Jeff Goldblum', Director='Steven Spielberg', Rating='8.1', Title='Jurassic Park', Writer='Michael Crichton, David Koepp')},\n",
       " {'n': Node('Movie', Actor_Names='Ellen Burstyn, Max von Sydow, Linda Blair', Director='William Friedkin', Rating='8.1', Title='The Exorcist', Writer='William Peter Blatty')},\n",
       " {'n': Node('Movie', Actor_Names='Adrien Brody, Thomas Kretschmann, Frank Finlay', Director='Roman Polanski', Rating='8.6', Title='The Pianist', Writer='Ronald Harwood, Wladyslaw Szpilman')},\n",
       " {'n': Node('Movie', Actor_Names='Robert De Niro, Ray Liotta, Joe Pesci', Director='Martin Scorsese', Rating='8.7', Title='Goodfellas', Writer='Nicholas Pileggi, Martin Scorsese')},\n",
       " {'n': Node('Movie', Actor_Names='Robert De Niro, Christopher Walken, John Cazale', Director='Michael Cimino', Rating='8.1', Title='The Deer Hunter', Writer='Michael Cimino, Deric Washburn, Louis Garfinkle')},\n",
       " {'n': Node('Movie', Actor_Names='Lew Ayres, Louis Wolheim, John Wray', Director='Lewis Milestone', Rating='8.1', Title='All Quiet on the Western Front', Writer='Erich Maria Remarque, Maxwell Anderson, George Abbott')},\n",
       " {'n': Node('Movie', Actor_Names='Warren Beatty, Faye Dunaway, Michael J. Pollard', Director='Arthur Penn', Rating='7.8', Title='Bonnie and Clyde', Writer='David Newman, Robert Benton, Robert Towne')},\n",
       " {'n': Node('Movie', Actor_Names='Gene Hackman, Roy Scheider, Fernando Rey', Director='William Friedkin', Rating='7.7', Title='The French Connection', Writer='Ernest Tidyman, Robin Moore')},\n",
       " {'n': Node('Movie', Actor_Names='Charles Chaplin, Virginia Cherrill, Florence Lee', Director='Charles Chaplin', Rating='8.5', Title='City Lights', Writer='Charles Chaplin, Harry Carr, Harry Crocker')},\n",
       " {'n': Node('Movie', Actor_Names='Clark Gable, Claudette Colbert, Walter Connolly', Director='Frank Capra', Rating='8.1', Title='It Happened One Night', Writer='Robert Riskin, Samuel Hopkins Adams')},\n",
       " {'n': Node('Movie', Actor_Names='Montgomery Clift, Elizabeth Taylor, Shelley Winters', Director='George Stevens', Rating='7.8', Title='A Place in the Sun', Writer='Theodore Dreiser, Patrick Kearney, Michael Wilson')},\n",
       " {'n': Node('Movie', Actor_Names='Dustin Hoffman, Jon Voight, Sylvia Miles', Director='John Schlesinger', Rating='7.8', Title='Midnight Cowboy', Writer='Waldo Salt, James Leo Herlihy')},\n",
       " {'n': Node('Movie', Actor_Names='James Stewart, Jean Arthur, Claude Rains', Director='Frank Capra', Rating='8.1', Title='Mr. Smith Goes to Washington', Writer='Sidney Buchman, Lewis R. Foster, Myles Connolly')},\n",
       " {'n': Node('Movie', Actor_Names='Dustin Hoffman, Tom Cruise, Valeria Golino', Director='Barry Levinson', Rating='8.0', Title='Rain Man', Writer='Barry Morrow, Ronald Bass')},\n",
       " {'n': Node('Movie', Actor_Names='Woody Allen, Diane Keaton, Tony Roberts', Director='Woody Allen', Rating='8.0', Title='Annie Hall', Writer='Woody Allen, Marshall Brickman')},\n",
       " {'n': Node('Movie', Actor_Names='William H. Macy, Frances McDormand, Steve Buscemi', Director='Joel Coen, Ethan Coen', Rating='8.1', Title='Fargo', Writer='Ethan Coen, Joel Coen')},\n",
       " {'n': Node('Movie', Actor_Names='Elizabeth Taylor, Rock Hudson, James Dean', Director='George Stevens', Rating='7.6', Title='Giant', Writer='Edna Ferber, Fred Guiol, Ivan Moffat')},\n",
       " {'n': Node('Movie', Actor_Names='Alan Ladd, Jean Arthur, Van Heflin', Director='George Stevens', Rating='7.6', Title='Shane', Writer='A.B. Guthrie Jr., Jack Sher, Jack Schaefer')},\n",
       " {'n': Node('Movie', Actor_Names='Henry Fonda, Jane Darwell, John Carradine', Director='John Ford', Rating='8.1', Title='The Grapes of Wrath', Writer='Nunnally Johnson, John Steinbeck')},\n",
       " {'n': Node('Movie', Actor_Names='Tom Hanks, Michael Clarke Duncan, David Morse', Director='Frank Darabont', Rating='8.6', Title='The Green Mile', Writer='Stephen King, Frank Darabont')},\n",
       " {'n': Node('Movie', Actor_Names='Richard Dreyfuss, François Truffaut, Teri Garr', Director='Steven Spielberg', Rating='7.6', Title='Close Encounters of the Third Kind', Writer='Steven Spielberg, Hal Barwood, Jerry Belson')},\n",
       " {'n': Node('Movie', Actor_Names='Keith Carradine, Karen Black, Ronee Blakley', Director='Robert Altman', Rating='7.7', Title='Nashville', Writer='Joan Tewkesbury')},\n",
       " {'n': Node('Movie', Actor_Names='Faye Dunaway, William Holden, Peter Finch', Director='Sidney Lumet', Rating='8.1', Title='Network', Writer='Paddy Chayefsky')},\n",
       " {'n': Node('Movie', Actor_Names='Dustin Hoffman, Anne Bancroft, Katharine Ross', Director='Mike Nichols', Rating='8.0', Title='The Graduate', Writer='Calder Willingham, Buck Henry, Charles Webb')},\n",
       " {'n': Node('Movie', Actor_Names='Richard Dreyfuss, Ron Howard, Paul Le Mat', Director='George Lucas', Rating='7.4', Title='American Graffiti', Writer='George Lucas, Gloria Katz, Willard Huyck')},\n",
       " {'n': Node('Movie', Actor_Names='John Travolta, Uma Thurman, Samuel L. Jackson', Director='Quentin Tarantino', Rating='8.9', Title='Pulp Fiction', Writer='Quentin Tarantino, Roger Avary')},\n",
       " {'n': Node('Movie', Actor_Names='Shirley MacLaine, Debra Winger, Jack Nicholson', Director='James L. Brooks', Rating='7.4', Title='Terms of Endearment', Writer='Larry McMurtry, James L. Brooks')},\n",
       " {'n': Node('Movie', Actor_Names='Robin Williams, Matt Damon, Ben Affleck', Director='Gus Van Sant', Rating='8.3', Title='Good Will Hunting', Writer='Matt Damon, Ben Affleck')},\n",
       " {'n': Node('Movie', Actor_Names='Humphrey Bogart, Katharine Hepburn, Robert Morley', Director='John Huston', Rating='7.8', Title='The African Queen', Writer='C.S. Forester, James Agee, John Huston')},\n",
       " {'n': Node('Movie', Actor_Names='John Wayne, Claire Trevor, Andy Devine', Director='John Ford', Rating='7.8', Title='Stagecoach', Writer='Ernest Haycox, Dudley Nichols, Ben Hecht')},\n",
       " {'n': Node('Movie', Actor_Names='Charles Laughton, Clark Gable, Franchot Tone', Director='Frank Lloyd', Rating='7.7', Title='Mutiny on the Bounty', Writer='Talbot Jennings, Jules Furthman, Carey Wilson')},\n",
       " {'n': Node('Movie', Actor_Names='Charles Chaplin, Paulette Goddard, Jack Oakie', Director='Charles Chaplin', Rating='8.4', Title='The Great Dictator', Writer='Charles Chaplin')},\n",
       " {'n': Node('Movie', Actor_Names='Fred MacMurray, Barbara Stanwyck, Edward G. Robinson', Director='Billy Wilder', Rating='8.3', Title='Double Indemnity', Writer='Billy Wilder, Raymond Chandler, James M. Cain')},\n",
       " {'n': Node('Movie', Actor_Names='Humphrey Bogart, Mary Astor, Gladys George', Director='John Huston', Rating='8.0', Title='The Maltese Falcon', Writer='John Huston, Dashiell Hammett')},\n",
       " {'n': Node('Movie', Actor_Names='Merle Oberon, Laurence Olivier, David Niven', Director='William Wyler', Rating='7.6', Title='Wuthering Heights', Writer='Charles MacArthur, Ben Hecht, Emily Brontë')},\n",
       " {'n': Node('Movie', Actor_Names='Robert De Niro, Jodie Foster, Cybill Shepherd', Director='Martin Scorsese', Rating='8.2', Title='Taxi Driver', Writer='Paul Schrader')},\n",
       " {'n': Node('Movie', Actor_Names='James Stewart, Grace Kelly, Wendell Corey', Director='Alfred Hitchcock', Rating='8.5', Title='Rear Window', Writer='John Michael Hayes, Cornell Woolrich')},\n",
       " {'n': Node('Movie', Actor_Names='Orson Welles, Joseph Cotten, Alida Valli', Director='Carol Reed', Rating='8.1', Title='The Third Man', Writer='Graham Greene, Orson Welles, Alexander Korda')},\n",
       " {'n': Node('Movie', Actor_Names='James Dean, Natalie Wood, Sal Mineo', Director='Nicholas Ray', Rating='7.7', Title='Rebel Without a Cause', Writer='Stewart Stern, Irving Shulman, Nicholas Ray')},\n",
       " {'n': Node('Movie', Actor_Names='Cary Grant, Eva Marie Saint, James Mason', Director='Alfred Hitchcock', Rating='8.3', Title='North by Northwest', Writer='Ernest Lehman')},\n",
       " {'n': Node('Movie', Actor_Names='James Cagney, Joan Leslie, Walter Huston', Director='Michael Curtiz', Rating='7.6', Title='Yankee Doodle Dandy', Writer='Robert Buckner, Edmund Joseph, Julius J. Epstein')},\n",
       " {'n': Node('Movie')},\n",
       " {'n': Node('Director')},\n",
       " {'n': Node('Actor')},\n",
       " {'n': Node('Movie')},\n",
       " {'n': Node('Writers')},\n",
       " {'n': Node('Movie')},\n",
       " {'n': Node('Rating')},\n",
       " {'n': Node('Actor')},\n",
       " {'n': Node('Movie')},\n",
       " {'n': Node('Movie', Actor_Names='Marlon Brando, Al Pacino, James Caan', Director='Francis Ford Coppola', Rating='9.2', Title='The Godfather', Writer='Mario Puzo, Francis Ford Coppola')},\n",
       " {'n': Node('Movie', Actor_Names='Tim Robbins, Morgan Freeman, Bob Gunton', Director='Frank Darabont', Rating='9.3', Title='The Shawshank Redemption', Writer='Stephen King, Frank Darabont')},\n",
       " {'n': Node('Movie', Actor_Names='Liam Neeson, Ralph Fiennes, Ben Kingsley', Director='Steven Spielberg', Rating='8.9', Title='Schindlers List', Writer='Thomas Keneally, Steven Zaillian')},\n",
       " {'n': Node('Movie', Actor_Names='Robert De Niro, Cathy Moriarty, Joe Pesci', Director='Martin Scorsese', Rating='8.2', Title='Raging Bull', Writer='Jake LaMotta, Joseph Carter, Peter Savage')},\n",
       " {'n': Node('Movie', Actor_Names='Humphrey Bogart, Ingrid Bergman, Paul Henreid', Director='Michael Curtiz', Rating='8.5', Title='Casablanca', Writer='Julius J. Epstein, Philip G. Epstein, Howard Koch')},\n",
       " {'n': Node('Movie', Actor_Names='Orson Welles, Joseph Cotten, Dorothy Comingore', Director='Orson Welles', Rating='8.3', Title='Citizen Kane', Writer='Herman J. Mankiewicz, Orson Welles, John Houseman')},\n",
       " {'n': Node('Movie', Actor_Names='Clark Gable, Vivien Leigh, Thomas Mitchell', Director='Victor Fleming, George Cukor, Sam Wood', Rating='8.2', Title='Gone with the Wind', Writer='Margaret Mitchell, Sidney Howard, Oliver H.P. Garrett')},\n",
       " {'n': Node('Movie', Actor_Names='Judy Garland, Frank Morgan, Ray Bolger', Director='Victor Fleming, George Cukor, Mervyn LeRoy', Rating='8.1', Title='The Wizard of Oz', Writer='Noel Langley, Florence Ryerson, Edgar Allan Woolf')},\n",
       " {'n': Node('Movie', Actor_Names='Jack Nicholson, Louise Fletcher, Michael Berryman', Director='Milos Forman', Rating='8.7', Title='One Flew Over the Cuckoos Nest', Writer='Lawrence Hauben, Bo Goldman, Ken Kesey')},\n",
       " {'n': Node('Movie', Actor_Names='Peter OToole, Alec Guinness, Anthony Quinn', Director='David Lean', Rating='8.3', Title='Lawrence of Arabia', Writer='Robert Bolt, Michael Wilson')},\n",
       " {'n': Node('Movie', Actor_Names='James Stewart, Kim Novak, Barbara Bel Geddes', Director='Alfred Hitchcock', Rating='8.3', Title='Vertigo', Writer='Alec Coppel, Samuel A. Taylor, Pierre Boileau')},\n",
       " {'n': Node('Movie', Actor_Names='Anthony Perkins, Janet Leigh, Vera Miles', Director='Alfred Hitchcock', Rating='8.5', Title='Psycho', Writer='Joseph Stefano, Robert Bloch')},\n",
       " {'n': Node('Movie', Actor_Names='Al Pacino, Robert De Niro, Robert Duvall', Director='Francis Ford Coppola', Rating='9.0', Title='The Godfather: Part II', Writer='Francis Ford Coppola, Mario Puzo')},\n",
       " {'n': Node('Movie', Actor_Names='Marlon Brando, Karl Malden, Lee J. Cobb', Director='Elia Kazan', Rating='8.1', Title='On the Waterfront', Writer='Budd Schulberg, Malcolm Johnson, Robert Siodmak')},\n",
       " {'n': Node('Movie', Actor_Names='William Holden, Gloria Swanson, Erich von Stroheim', Director='Billy Wilder', Rating='8.4', Title='Sunset Blvd.', Writer='Charles Brackett, Billy Wilder, D.M. Marshman Jr.')},\n",
       " {'n': Node('Movie', Actor_Names='Tom Hanks, Robin Wright, Gary Sinise', Director='Robert Zemeckis', Rating='8.8', Title='Forrest Gump', Writer='Winston Groom, Eric Roth')}]"
      ]
     },
     "execution_count": 16,
     "metadata": {},
     "output_type": "execute_result"
    }
   ],
   "source": [
    "graph = Graph(\"bolt://localhost:11010\", auth=(\"neo4j\", \"neo\")) \n",
    "query = \"Match (n) return (n)\"\n",
    "result = graph.query(query)\n",
    "result.data()"
   ]
  },
  {
   "cell_type": "code",
   "execution_count": 18,
   "metadata": {},
   "outputs": [
    {
     "data": {
      "text/plain": [
       "[{'(m.Director)': 'Francis Ford Coppola'},\n",
       " {'(m.Director)': 'Frank Darabont'},\n",
       " {'(m.Director)': 'Francis Ford Coppola'},\n",
       " {'(m.Director)': 'Frank Darabont'}]"
      ]
     },
     "execution_count": 18,
     "metadata": {},
     "output_type": "execute_result"
    }
   ],
   "source": [
    "query2='''Match (m:Movie) where m.Rating > \"9.0\"\n",
    "    Return (m.Director)'''\n",
    "\n",
    "result=graph.query(query2)\n",
    "result.data()"
   ]
  },
  {
   "cell_type": "code",
   "execution_count": 28,
   "metadata": {},
   "outputs": [
    {
     "data": {
      "text/plain": [
       "[{'m': Node('Movie', Actor_Names='Julie Andrews, Christopher Plummer, Eleanor Parker', Director='Robert Wise', Rating='8.0', Title='The Sound of Music', Writer='George Hurdalek, Howard Lindsay, Russel Crouse')},\n",
       " {'m': Node('Movie', Actor_Names='Henry Fonda, Lee J. Cobb, Martin Balsam', Director='Sidney Lumet', Rating='9.0', Title='12 Angry Men', Writer='Reginald Rose')},\n",
       " {'m': Node('Movie', Actor_Names='Natalie Wood, George Chakiris, Richard Beymer', Director='Jerome Robbins, Robert Wise', Rating='7.5', Title='West Side Story', Writer='Ernest Lehman, Arthur Laurents, Jerome Robbins')},\n",
       " {'m': Node('Movie', Actor_Names='Mark Hamill, Harrison Ford, Carrie Fisher', Director='George Lucas', Rating='8.6', Title='Star Wars', Writer='George Lucas')},\n",
       " {'m': Node('Movie', Actor_Names='Keir Dullea, Gary Lockwood, William Sylvester', Director='Stanley Kubrick', Rating='8.3', Title='2001: A Space Odyssey', Writer='Stanley Kubrick, Arthur C. Clarke')},\n",
       " {'m': Node('Movie', Actor_Names='Henry Thomas, Drew Barrymore, Peter Coyote', Director='Steven Spielberg', Rating='7.9', Title='E.T. the Extra-Terrestrial', Writer='Melissa Mathison')},\n",
       " {'m': Node('Movie', Actor_Names='Jodie Foster, Anthony Hopkins, Lawrence A. Bonney', Director='Jonathan Demme', Rating='8.6', Title='The Silence of the Lambs', Writer='Thomas Harris, Ted Tally')},\n",
       " {'m': Node('Movie', Actor_Names='Jack Nicholson, Faye Dunaway, John Huston', Director='Roman Polanski', Rating='8.2', Title='Chinatown', Writer='Robert Towne, Roman Polanski')},\n",
       " {'m': Node('Movie', Actor_Names='William Holden, Alec Guinness, Jack Hawkins', Director='David Lean', Rating='8.1', Title='The Bridge on the River Kwai', Writer='Pierre Boulle, Carl Foreman, Michael Wilson')},\n",
       " {'m': Node('Movie', Actor_Names='Gene Kelly, Donald OConnor, Debbie Reynolds', Director='Stanley Donen, Gene Kelly', Rating='8.3', Title='Singin in the Rain', Writer='Betty Comden, Adolph Green')},\n",
       " {'m': Node('Movie', Actor_Names='James Stewart, Donna Reed, Lionel Barrymore', Director='Frank Capra', Rating='8.7', Title='Its a Wonderful Life', Writer='Frances Goodrich, Albert Hackett, Frank Capra')},\n",
       " {'m': Node('Movie', Actor_Names='Peter Sellers, George C. Scott, Sterling Hayden', Director='Stanley Kubrick', Rating='8.4', Title='Dr. Strangelove or: How I Learned to Stop Worrying and Love the Bomb', Writer='Stanley Kubrick, Terry Southern, Peter George')},\n",
       " {'m': Node('Movie', Actor_Names='Marilyn Monroe, Tony Curtis, Jack Lemmon', Director='Billy Wilder', Rating='8.2', Title='Some Like It Hot', Writer='Billy Wilder, I.A.L. Diamond, Robert Thoeren')},\n",
       " {'m': Node('Movie', Actor_Names='Charlton Heston, Jack Hawkins, Stephen Boyd', Director='William Wyler', Rating='8.1', Title='Ben-Hur', Writer='Lew Wallace, Karl Tunberg, Gore Vidal')},\n",
       " {'m': Node('Movie', Actor_Names='Martin Sheen, Marlon Brando, Robert Duvall', Director='Francis Ford Coppola', Rating='8.5', Title='Apocalypse Now', Writer='John Milius, Francis Ford Coppola, Michael Herr')},\n",
       " {'m': Node('Movie', Actor_Names='F. Murray Abraham, Tom Hulce, Elizabeth Berridge', Director='Milos Forman', Rating='8.4', Title='Amadeus', Writer='Peter Shaffer, Zdenek Mahler')},\n",
       " {'m': Node('Movie', Actor_Names='Elijah Wood, Viggo Mortensen, Ian McKellen', Director='Peter Jackson', Rating='9.0', Title='The Lord of the Rings: The Return of the King', Writer='J.R.R. Tolkien, Fran Walsh, Philippa Boyens')},\n",
       " {'m': Node('Movie', Actor_Names='Russell Crowe, Joaquin Phoenix, Connie Nielsen', Director='Ridley Scott', Rating='8.5', Title='Gladiator', Writer='David Franzoni, John Logan, William Nicholson')},\n",
       " {'m': Node('Movie', Actor_Names='Leonardo DiCaprio, Kate Winslet, Billy Zane', Director='James Cameron', Rating='7.8', Title='Titanic', Writer='James Cameron')},\n",
       " {'m': Node('Movie', Actor_Names='Burt Lancaster, Montgomery Clift, Deborah Kerr', Director='Fred Zinnemann', Rating='7.6', Title='From Here to Eternity', Writer='Daniel Taradash, James Jones')},\n",
       " {'m': Node('Movie', Actor_Names='Tom Hanks, Matt Damon, Tom Sizemore', Director='Steven Spielberg', Rating='8.6', Title='Saving Private Ryan', Writer='Robert Rodat')},\n",
       " {'m': Node('Movie', Actor_Names='Clint Eastwood, Gene Hackman, Morgan Freeman', Director='Clint Eastwood', Rating='8.2', Title='Unforgiven', Writer='David Webb Peoples')},\n",
       " {'m': Node('Movie', Actor_Names='Harrison Ford, Karen Allen, Paul Freeman', Director='Steven Spielberg', Rating='8.4', Title='Indiana Jones and the Raiders of the Lost Ark', Writer='Lawrence Kasdan, George Lucas, Philip Kaufman')},\n",
       " {'m': Node('Movie', Actor_Names='Sylvester Stallone, Talia Shire, Burt Young', Director='John G. Avildsen', Rating='8.1', Title='Rocky', Writer='Sylvester Stallone')},\n",
       " {'m': Node('Movie', Actor_Names='Vivien Leigh, Marlon Brando, Kim Hunter', Director='Elia Kazan', Rating='8.0', Title='A Streetcar Named Desire', Writer='Tennessee Williams, Oscar Saul')},\n",
       " {'m': Node('Movie', Actor_Names='Cary Grant, Katharine Hepburn, James Stewart', Director='George Cukor', Rating='7.9', Title='The Philadelphia Story', Writer='Donald Ogden Stewart, Philip Barry, Waldo Salt')},\n",
       " {'m': Node('Movie', Actor_Names='Gregory Peck, John Megna, Frank Overton', Director='Robert Mulligan', Rating='8.3', Title='To Kill a Mockingbird', Writer='Harper Lee, Horton Foote')},\n",
       " {'m': Node('Movie', Actor_Names='Gene Kelly, Leslie Caron, Oscar Levant', Director='Vincente Minnelli', Rating='7.2', Title='An American in Paris', Writer='Alan Jay Lerner')},\n",
       " {'m': Node('Movie', Actor_Names='Myrna Loy, Dana Andrews, Fredric March', Director='William Wyler', Rating='8.1', Title='The Best Years of Our Lives', Writer='Robert E. Sherwood, MacKinlay Kantor')},\n",
       " {'m': Node('Movie', Actor_Names='Audrey Hepburn, Rex Harrison, Stanley Holloway', Director='George Cukor', Rating='7.8', Title='My Fair Lady', Writer='Alan Jay Lerner, George Bernard Shaw')},\n",
       " {'m': Node('Movie', Actor_Names='Malcolm McDowell, Patrick Magee, Michael Bates', Director='Stanley Kubrick', Rating='8.3', Title='A Clockwork Orange', Writer='Stanley Kubrick, Anthony Burgess')},\n",
       " {'m': Node('Movie', Actor_Names='Omar Sharif, Julie Christie, Geraldine Chaplin', Director='David Lean', Rating='8.0', Title='Doctor Zhivago', Writer='Boris Pasternak, Robert Bolt')},\n",
       " {'m': Node('Movie', Actor_Names='John Wayne, Jeffrey Hunter, Vera Miles', Director='John Ford', Rating='7.9', Title='The Searchers', Writer='Frank S. Nugent, Alan Le May')},\n",
       " {'m': Node('Movie', Actor_Names='Roy Scheider, Robert Shaw, Richard Dreyfuss', Director='Steven Spielberg', Rating='8.1', Title='Jaws', Writer='Peter Benchley, Carl Gottlieb')},\n",
       " {'m': Node('Movie', Actor_Names='George C. Scott, Karl Malden, Stephen Young', Director='Franklin J. Schaffner', Rating='8.0', Title='Patton', Writer='Francis Ford Coppola, Edmund H. North, Ladislas Farago')},\n",
       " {'m': Node('Movie', Actor_Names='Paul Newman, Robert Redford, Katharine Ross', Director='George Roy Hill', Rating='8.0', Title='Butch Cassidy and the Sundance Kid', Writer='William Goldman')},\n",
       " {'m': Node('Movie', Actor_Names='Humphrey Bogart, Walter Huston, Tim Holt', Director='John Huston', Rating='8.2', Title='The Treasure of the Sierra Madre', Writer='John Huston, B. Traven')},\n",
       " {'m': Node('Movie', Actor_Names='Jack Lemmon, Shirley MacLaine, Fred MacMurray', Director='Billy Wilder', Rating='8.3', Title='The Apartment', Writer='Billy Wilder, I.A.L. Diamond')},\n",
       " {'m': Node('Movie', Actor_Names='Charlie Sheen, Tom Berenger, Willem Dafoe', Director='Oliver Stone', Rating='8.1', Title='Platoon', Writer='Oliver Stone')},\n",
       " {'m': Node('Movie', Actor_Names='Gary Cooper, Grace Kelly, Thomas Mitchell', Director='Fred Zinnemann', Rating='8.0', Title='High Noon', Writer='Carl Foreman, John W. Cunningham')},\n",
       " {'m': Node('Movie', Actor_Names='Mel Gibson, Sophie Marceau, Patrick McGoohan', Director='Mel Gibson', Rating='8.4', Title='Braveheart', Writer='Randall Wallace')},\n",
       " {'m': Node('Movie', Actor_Names='Kevin Costner, Mary McDonnell, Graham Greene', Director='Kevin Costner', Rating='8.1', Title='Dances with Wolves', Writer='Michael Blake')},\n",
       " {'m': Node('Movie', Actor_Names='Sam Neill, Laura Dern, Jeff Goldblum', Director='Steven Spielberg', Rating='8.1', Title='Jurassic Park', Writer='Michael Crichton, David Koepp')},\n",
       " {'m': Node('Movie', Actor_Names='Ellen Burstyn, Max von Sydow, Linda Blair', Director='William Friedkin', Rating='8.1', Title='The Exorcist', Writer='William Peter Blatty')},\n",
       " {'m': Node('Movie', Actor_Names='Adrien Brody, Thomas Kretschmann, Frank Finlay', Director='Roman Polanski', Rating='8.6', Title='The Pianist', Writer='Ronald Harwood, Wladyslaw Szpilman')},\n",
       " {'m': Node('Movie', Actor_Names='Robert De Niro, Ray Liotta, Joe Pesci', Director='Martin Scorsese', Rating='8.7', Title='Goodfellas', Writer='Nicholas Pileggi, Martin Scorsese')},\n",
       " {'m': Node('Movie', Actor_Names='Robert De Niro, Christopher Walken, John Cazale', Director='Michael Cimino', Rating='8.1', Title='The Deer Hunter', Writer='Michael Cimino, Deric Washburn, Louis Garfinkle')},\n",
       " {'m': Node('Movie', Actor_Names='Lew Ayres, Louis Wolheim, John Wray', Director='Lewis Milestone', Rating='8.1', Title='All Quiet on the Western Front', Writer='Erich Maria Remarque, Maxwell Anderson, George Abbott')},\n",
       " {'m': Node('Movie', Actor_Names='Warren Beatty, Faye Dunaway, Michael J. Pollard', Director='Arthur Penn', Rating='7.8', Title='Bonnie and Clyde', Writer='David Newman, Robert Benton, Robert Towne')},\n",
       " {'m': Node('Movie', Actor_Names='Gene Hackman, Roy Scheider, Fernando Rey', Director='William Friedkin', Rating='7.7', Title='The French Connection', Writer='Ernest Tidyman, Robin Moore')},\n",
       " {'m': Node('Movie', Actor_Names='Charles Chaplin, Virginia Cherrill, Florence Lee', Director='Charles Chaplin', Rating='8.5', Title='City Lights', Writer='Charles Chaplin, Harry Carr, Harry Crocker')},\n",
       " {'m': Node('Movie', Actor_Names='Clark Gable, Claudette Colbert, Walter Connolly', Director='Frank Capra', Rating='8.1', Title='It Happened One Night', Writer='Robert Riskin, Samuel Hopkins Adams')},\n",
       " {'m': Node('Movie', Actor_Names='Montgomery Clift, Elizabeth Taylor, Shelley Winters', Director='George Stevens', Rating='7.8', Title='A Place in the Sun', Writer='Theodore Dreiser, Patrick Kearney, Michael Wilson')},\n",
       " {'m': Node('Movie', Actor_Names='Dustin Hoffman, Jon Voight, Sylvia Miles', Director='John Schlesinger', Rating='7.8', Title='Midnight Cowboy', Writer='Waldo Salt, James Leo Herlihy')},\n",
       " {'m': Node('Movie', Actor_Names='James Stewart, Jean Arthur, Claude Rains', Director='Frank Capra', Rating='8.1', Title='Mr. Smith Goes to Washington', Writer='Sidney Buchman, Lewis R. Foster, Myles Connolly')},\n",
       " {'m': Node('Movie', Actor_Names='Dustin Hoffman, Tom Cruise, Valeria Golino', Director='Barry Levinson', Rating='8.0', Title='Rain Man', Writer='Barry Morrow, Ronald Bass')},\n",
       " {'m': Node('Movie', Actor_Names='Woody Allen, Diane Keaton, Tony Roberts', Director='Woody Allen', Rating='8.0', Title='Annie Hall', Writer='Woody Allen, Marshall Brickman')},\n",
       " {'m': Node('Movie', Actor_Names='William H. Macy, Frances McDormand, Steve Buscemi', Director='Joel Coen, Ethan Coen', Rating='8.1', Title='Fargo', Writer='Ethan Coen, Joel Coen')},\n",
       " {'m': Node('Movie', Actor_Names='Elizabeth Taylor, Rock Hudson, James Dean', Director='George Stevens', Rating='7.6', Title='Giant', Writer='Edna Ferber, Fred Guiol, Ivan Moffat')},\n",
       " {'m': Node('Movie', Actor_Names='Alan Ladd, Jean Arthur, Van Heflin', Director='George Stevens', Rating='7.6', Title='Shane', Writer='A.B. Guthrie Jr., Jack Sher, Jack Schaefer')},\n",
       " {'m': Node('Movie', Actor_Names='Henry Fonda, Jane Darwell, John Carradine', Director='John Ford', Rating='8.1', Title='The Grapes of Wrath', Writer='Nunnally Johnson, John Steinbeck')},\n",
       " {'m': Node('Movie', Actor_Names='Tom Hanks, Michael Clarke Duncan, David Morse', Director='Frank Darabont', Rating='8.6', Title='The Green Mile', Writer='Stephen King, Frank Darabont')},\n",
       " {'m': Node('Movie', Actor_Names='Richard Dreyfuss, François Truffaut, Teri Garr', Director='Steven Spielberg', Rating='7.6', Title='Close Encounters of the Third Kind', Writer='Steven Spielberg, Hal Barwood, Jerry Belson')},\n",
       " {'m': Node('Movie', Actor_Names='Keith Carradine, Karen Black, Ronee Blakley', Director='Robert Altman', Rating='7.7', Title='Nashville', Writer='Joan Tewkesbury')},\n",
       " {'m': Node('Movie', Actor_Names='Faye Dunaway, William Holden, Peter Finch', Director='Sidney Lumet', Rating='8.1', Title='Network', Writer='Paddy Chayefsky')},\n",
       " {'m': Node('Movie', Actor_Names='Dustin Hoffman, Anne Bancroft, Katharine Ross', Director='Mike Nichols', Rating='8.0', Title='The Graduate', Writer='Calder Willingham, Buck Henry, Charles Webb')},\n",
       " {'m': Node('Movie', Actor_Names='Richard Dreyfuss, Ron Howard, Paul Le Mat', Director='George Lucas', Rating='7.4', Title='American Graffiti', Writer='George Lucas, Gloria Katz, Willard Huyck')},\n",
       " {'m': Node('Movie', Actor_Names='John Travolta, Uma Thurman, Samuel L. Jackson', Director='Quentin Tarantino', Rating='8.9', Title='Pulp Fiction', Writer='Quentin Tarantino, Roger Avary')},\n",
       " {'m': Node('Movie', Actor_Names='Shirley MacLaine, Debra Winger, Jack Nicholson', Director='James L. Brooks', Rating='7.4', Title='Terms of Endearment', Writer='Larry McMurtry, James L. Brooks')},\n",
       " {'m': Node('Movie', Actor_Names='Robin Williams, Matt Damon, Ben Affleck', Director='Gus Van Sant', Rating='8.3', Title='Good Will Hunting', Writer='Matt Damon, Ben Affleck')},\n",
       " {'m': Node('Movie', Actor_Names='Humphrey Bogart, Katharine Hepburn, Robert Morley', Director='John Huston', Rating='7.8', Title='The African Queen', Writer='C.S. Forester, James Agee, John Huston')},\n",
       " {'m': Node('Movie', Actor_Names='John Wayne, Claire Trevor, Andy Devine', Director='John Ford', Rating='7.8', Title='Stagecoach', Writer='Ernest Haycox, Dudley Nichols, Ben Hecht')},\n",
       " {'m': Node('Movie', Actor_Names='Charles Laughton, Clark Gable, Franchot Tone', Director='Frank Lloyd', Rating='7.7', Title='Mutiny on the Bounty', Writer='Talbot Jennings, Jules Furthman, Carey Wilson')},\n",
       " {'m': Node('Movie', Actor_Names='Charles Chaplin, Paulette Goddard, Jack Oakie', Director='Charles Chaplin', Rating='8.4', Title='The Great Dictator', Writer='Charles Chaplin')},\n",
       " {'m': Node('Movie', Actor_Names='Fred MacMurray, Barbara Stanwyck, Edward G. Robinson', Director='Billy Wilder', Rating='8.3', Title='Double Indemnity', Writer='Billy Wilder, Raymond Chandler, James M. Cain')},\n",
       " {'m': Node('Movie', Actor_Names='Humphrey Bogart, Mary Astor, Gladys George', Director='John Huston', Rating='8.0', Title='The Maltese Falcon', Writer='John Huston, Dashiell Hammett')},\n",
       " {'m': Node('Movie', Actor_Names='Merle Oberon, Laurence Olivier, David Niven', Director='William Wyler', Rating='7.6', Title='Wuthering Heights', Writer='Charles MacArthur, Ben Hecht, Emily Brontë')},\n",
       " {'m': Node('Movie', Actor_Names='Robert De Niro, Jodie Foster, Cybill Shepherd', Director='Martin Scorsese', Rating='8.2', Title='Taxi Driver', Writer='Paul Schrader')},\n",
       " {'m': Node('Movie', Actor_Names='James Stewart, Grace Kelly, Wendell Corey', Director='Alfred Hitchcock', Rating='8.5', Title='Rear Window', Writer='John Michael Hayes, Cornell Woolrich')},\n",
       " {'m': Node('Movie', Actor_Names='Orson Welles, Joseph Cotten, Alida Valli', Director='Carol Reed', Rating='8.1', Title='The Third Man', Writer='Graham Greene, Orson Welles, Alexander Korda')},\n",
       " {'m': Node('Movie', Actor_Names='James Dean, Natalie Wood, Sal Mineo', Director='Nicholas Ray', Rating='7.7', Title='Rebel Without a Cause', Writer='Stewart Stern, Irving Shulman, Nicholas Ray')},\n",
       " {'m': Node('Movie', Actor_Names='Cary Grant, Eva Marie Saint, James Mason', Director='Alfred Hitchcock', Rating='8.3', Title='North by Northwest', Writer='Ernest Lehman')},\n",
       " {'m': Node('Movie', Actor_Names='James Cagney, Joan Leslie, Walter Huston', Director='Michael Curtiz', Rating='7.6', Title='Yankee Doodle Dandy', Writer='Robert Buckner, Edmund Joseph, Julius J. Epstein')},\n",
       " {'m': Node('Movie', Actor_Names='Marlon Brando, Al Pacino, James Caan', Director='Francis Ford Coppola', Rating='9.2', Title='The Godfather', Writer='Mario Puzo, Francis Ford Coppola')},\n",
       " {'m': Node('Movie', Actor_Names='Tim Robbins, Morgan Freeman, Bob Gunton', Director='Frank Darabont', Rating='9.3', Title='The Shawshank Redemption', Writer='Stephen King, Frank Darabont')},\n",
       " {'m': Node('Movie', Actor_Names='Liam Neeson, Ralph Fiennes, Ben Kingsley', Director='Steven Spielberg', Rating='8.9', Title='Schindlers List', Writer='Thomas Keneally, Steven Zaillian')},\n",
       " {'m': Node('Movie', Actor_Names='Robert De Niro, Cathy Moriarty, Joe Pesci', Director='Martin Scorsese', Rating='8.2', Title='Raging Bull', Writer='Jake LaMotta, Joseph Carter, Peter Savage')},\n",
       " {'m': Node('Movie', Actor_Names='Humphrey Bogart, Ingrid Bergman, Paul Henreid', Director='Michael Curtiz', Rating='8.5', Title='Casablanca', Writer='Julius J. Epstein, Philip G. Epstein, Howard Koch')},\n",
       " {'m': Node('Movie', Actor_Names='Orson Welles, Joseph Cotten, Dorothy Comingore', Director='Orson Welles', Rating='8.3', Title='Citizen Kane', Writer='Herman J. Mankiewicz, Orson Welles, John Houseman')},\n",
       " {'m': Node('Movie', Actor_Names='Clark Gable, Vivien Leigh, Thomas Mitchell', Director='Victor Fleming, George Cukor, Sam Wood', Rating='8.2', Title='Gone with the Wind', Writer='Margaret Mitchell, Sidney Howard, Oliver H.P. Garrett')},\n",
       " {'m': Node('Movie', Actor_Names='Judy Garland, Frank Morgan, Ray Bolger', Director='Victor Fleming, George Cukor, Mervyn LeRoy', Rating='8.1', Title='The Wizard of Oz', Writer='Noel Langley, Florence Ryerson, Edgar Allan Woolf')},\n",
       " {'m': Node('Movie', Actor_Names='Jack Nicholson, Louise Fletcher, Michael Berryman', Director='Milos Forman', Rating='8.7', Title='One Flew Over the Cuckoos Nest', Writer='Lawrence Hauben, Bo Goldman, Ken Kesey')},\n",
       " {'m': Node('Movie', Actor_Names='Peter OToole, Alec Guinness, Anthony Quinn', Director='David Lean', Rating='8.3', Title='Lawrence of Arabia', Writer='Robert Bolt, Michael Wilson')},\n",
       " {'m': Node('Movie', Actor_Names='James Stewart, Kim Novak, Barbara Bel Geddes', Director='Alfred Hitchcock', Rating='8.3', Title='Vertigo', Writer='Alec Coppel, Samuel A. Taylor, Pierre Boileau')},\n",
       " {'m': Node('Movie', Actor_Names='Anthony Perkins, Janet Leigh, Vera Miles', Director='Alfred Hitchcock', Rating='8.5', Title='Psycho', Writer='Joseph Stefano, Robert Bloch')},\n",
       " {'m': Node('Movie', Actor_Names='Al Pacino, Robert De Niro, Robert Duvall', Director='Francis Ford Coppola', Rating='9.0', Title='The Godfather: Part II', Writer='Francis Ford Coppola, Mario Puzo')},\n",
       " {'m': Node('Movie', Actor_Names='Marlon Brando, Karl Malden, Lee J. Cobb', Director='Elia Kazan', Rating='8.1', Title='On the Waterfront', Writer='Budd Schulberg, Malcolm Johnson, Robert Siodmak')},\n",
       " {'m': Node('Movie', Actor_Names='William Holden, Gloria Swanson, Erich von Stroheim', Director='Billy Wilder', Rating='8.4', Title='Sunset Blvd.', Writer='Charles Brackett, Billy Wilder, D.M. Marshman Jr.')},\n",
       " {'m': Node('Movie', Actor_Names='Tom Hanks, Robin Wright, Gary Sinise', Director='Robert Zemeckis', Rating='8.8', Title='Forrest Gump', Writer='Winston Groom, Eric Roth')},\n",
       " {'m': Node('Movie', Actor_Names='Julie Andrews, Christopher Plummer, Eleanor Parker', Director='Robert Wise', Rating='8.0', Title='The Sound of Music', Writer='George Hurdalek, Howard Lindsay, Russel Crouse')},\n",
       " {'m': Node('Movie', Actor_Names='Henry Fonda, Lee J. Cobb, Martin Balsam', Director='Sidney Lumet', Rating='9.0', Title='12 Angry Men', Writer='Reginald Rose')},\n",
       " {'m': Node('Movie', Actor_Names='Natalie Wood, George Chakiris, Richard Beymer', Director='Jerome Robbins, Robert Wise', Rating='7.5', Title='West Side Story', Writer='Ernest Lehman, Arthur Laurents, Jerome Robbins')},\n",
       " {'m': Node('Movie', Actor_Names='Mark Hamill, Harrison Ford, Carrie Fisher', Director='George Lucas', Rating='8.6', Title='Star Wars', Writer='George Lucas')},\n",
       " {'m': Node('Movie', Actor_Names='Keir Dullea, Gary Lockwood, William Sylvester', Director='Stanley Kubrick', Rating='8.3', Title='2001: A Space Odyssey', Writer='Stanley Kubrick, Arthur C. Clarke')},\n",
       " {'m': Node('Movie', Actor_Names='Henry Thomas, Drew Barrymore, Peter Coyote', Director='Steven Spielberg', Rating='7.9', Title='E.T. the Extra-Terrestrial', Writer='Melissa Mathison')},\n",
       " {'m': Node('Movie', Actor_Names='Jodie Foster, Anthony Hopkins, Lawrence A. Bonney', Director='Jonathan Demme', Rating='8.6', Title='The Silence of the Lambs', Writer='Thomas Harris, Ted Tally')},\n",
       " {'m': Node('Movie', Actor_Names='Jack Nicholson, Faye Dunaway, John Huston', Director='Roman Polanski', Rating='8.2', Title='Chinatown', Writer='Robert Towne, Roman Polanski')},\n",
       " {'m': Node('Movie', Actor_Names='William Holden, Alec Guinness, Jack Hawkins', Director='David Lean', Rating='8.1', Title='The Bridge on the River Kwai', Writer='Pierre Boulle, Carl Foreman, Michael Wilson')},\n",
       " {'m': Node('Movie', Actor_Names='Gene Kelly, Donald OConnor, Debbie Reynolds', Director='Stanley Donen, Gene Kelly', Rating='8.3', Title='Singin in the Rain', Writer='Betty Comden, Adolph Green')},\n",
       " {'m': Node('Movie', Actor_Names='James Stewart, Donna Reed, Lionel Barrymore', Director='Frank Capra', Rating='8.7', Title='Its a Wonderful Life', Writer='Frances Goodrich, Albert Hackett, Frank Capra')},\n",
       " {'m': Node('Movie', Actor_Names='Peter Sellers, George C. Scott, Sterling Hayden', Director='Stanley Kubrick', Rating='8.4', Title='Dr. Strangelove or: How I Learned to Stop Worrying and Love the Bomb', Writer='Stanley Kubrick, Terry Southern, Peter George')},\n",
       " {'m': Node('Movie', Actor_Names='Marilyn Monroe, Tony Curtis, Jack Lemmon', Director='Billy Wilder', Rating='8.2', Title='Some Like It Hot', Writer='Billy Wilder, I.A.L. Diamond, Robert Thoeren')},\n",
       " {'m': Node('Movie', Actor_Names='Charlton Heston, Jack Hawkins, Stephen Boyd', Director='William Wyler', Rating='8.1', Title='Ben-Hur', Writer='Lew Wallace, Karl Tunberg, Gore Vidal')},\n",
       " {'m': Node('Movie', Actor_Names='Martin Sheen, Marlon Brando, Robert Duvall', Director='Francis Ford Coppola', Rating='8.5', Title='Apocalypse Now', Writer='John Milius, Francis Ford Coppola, Michael Herr')},\n",
       " {'m': Node('Movie', Actor_Names='F. Murray Abraham, Tom Hulce, Elizabeth Berridge', Director='Milos Forman', Rating='8.4', Title='Amadeus', Writer='Peter Shaffer, Zdenek Mahler')},\n",
       " {'m': Node('Movie', Actor_Names='Elijah Wood, Viggo Mortensen, Ian McKellen', Director='Peter Jackson', Rating='9.0', Title='The Lord of the Rings: The Return of the King', Writer='J.R.R. Tolkien, Fran Walsh, Philippa Boyens')},\n",
       " {'m': Node('Movie', Actor_Names='Russell Crowe, Joaquin Phoenix, Connie Nielsen', Director='Ridley Scott', Rating='8.5', Title='Gladiator', Writer='David Franzoni, John Logan, William Nicholson')},\n",
       " {'m': Node('Movie', Actor_Names='Leonardo DiCaprio, Kate Winslet, Billy Zane', Director='James Cameron', Rating='7.8', Title='Titanic', Writer='James Cameron')},\n",
       " {'m': Node('Movie', Actor_Names='Burt Lancaster, Montgomery Clift, Deborah Kerr', Director='Fred Zinnemann', Rating='7.6', Title='From Here to Eternity', Writer='Daniel Taradash, James Jones')},\n",
       " {'m': Node('Movie', Actor_Names='Tom Hanks, Matt Damon, Tom Sizemore', Director='Steven Spielberg', Rating='8.6', Title='Saving Private Ryan', Writer='Robert Rodat')},\n",
       " {'m': Node('Movie', Actor_Names='Clint Eastwood, Gene Hackman, Morgan Freeman', Director='Clint Eastwood', Rating='8.2', Title='Unforgiven', Writer='David Webb Peoples')},\n",
       " {'m': Node('Movie', Actor_Names='Harrison Ford, Karen Allen, Paul Freeman', Director='Steven Spielberg', Rating='8.4', Title='Indiana Jones and the Raiders of the Lost Ark', Writer='Lawrence Kasdan, George Lucas, Philip Kaufman')},\n",
       " {'m': Node('Movie', Actor_Names='Sylvester Stallone, Talia Shire, Burt Young', Director='John G. Avildsen', Rating='8.1', Title='Rocky', Writer='Sylvester Stallone')},\n",
       " {'m': Node('Movie', Actor_Names='Vivien Leigh, Marlon Brando, Kim Hunter', Director='Elia Kazan', Rating='8.0', Title='A Streetcar Named Desire', Writer='Tennessee Williams, Oscar Saul')},\n",
       " {'m': Node('Movie', Actor_Names='Cary Grant, Katharine Hepburn, James Stewart', Director='George Cukor', Rating='7.9', Title='The Philadelphia Story', Writer='Donald Ogden Stewart, Philip Barry, Waldo Salt')},\n",
       " {'m': Node('Movie', Actor_Names='Gregory Peck, John Megna, Frank Overton', Director='Robert Mulligan', Rating='8.3', Title='To Kill a Mockingbird', Writer='Harper Lee, Horton Foote')},\n",
       " {'m': Node('Movie', Actor_Names='Gene Kelly, Leslie Caron, Oscar Levant', Director='Vincente Minnelli', Rating='7.2', Title='An American in Paris', Writer='Alan Jay Lerner')},\n",
       " {'m': Node('Movie', Actor_Names='Myrna Loy, Dana Andrews, Fredric March', Director='William Wyler', Rating='8.1', Title='The Best Years of Our Lives', Writer='Robert E. Sherwood, MacKinlay Kantor')},\n",
       " {'m': Node('Movie', Actor_Names='Audrey Hepburn, Rex Harrison, Stanley Holloway', Director='George Cukor', Rating='7.8', Title='My Fair Lady', Writer='Alan Jay Lerner, George Bernard Shaw')},\n",
       " {'m': Node('Movie', Actor_Names='Malcolm McDowell, Patrick Magee, Michael Bates', Director='Stanley Kubrick', Rating='8.3', Title='A Clockwork Orange', Writer='Stanley Kubrick, Anthony Burgess')},\n",
       " {'m': Node('Movie', Actor_Names='Omar Sharif, Julie Christie, Geraldine Chaplin', Director='David Lean', Rating='8.0', Title='Doctor Zhivago', Writer='Boris Pasternak, Robert Bolt')},\n",
       " {'m': Node('Movie', Actor_Names='John Wayne, Jeffrey Hunter, Vera Miles', Director='John Ford', Rating='7.9', Title='The Searchers', Writer='Frank S. Nugent, Alan Le May')},\n",
       " {'m': Node('Movie', Actor_Names='Roy Scheider, Robert Shaw, Richard Dreyfuss', Director='Steven Spielberg', Rating='8.1', Title='Jaws', Writer='Peter Benchley, Carl Gottlieb')},\n",
       " {'m': Node('Movie', Actor_Names='George C. Scott, Karl Malden, Stephen Young', Director='Franklin J. Schaffner', Rating='8.0', Title='Patton', Writer='Francis Ford Coppola, Edmund H. North, Ladislas Farago')},\n",
       " {'m': Node('Movie', Actor_Names='Paul Newman, Robert Redford, Katharine Ross', Director='George Roy Hill', Rating='8.0', Title='Butch Cassidy and the Sundance Kid', Writer='William Goldman')},\n",
       " {'m': Node('Movie', Actor_Names='Humphrey Bogart, Walter Huston, Tim Holt', Director='John Huston', Rating='8.2', Title='The Treasure of the Sierra Madre', Writer='John Huston, B. Traven')},\n",
       " {'m': Node('Movie', Actor_Names='Jack Lemmon, Shirley MacLaine, Fred MacMurray', Director='Billy Wilder', Rating='8.3', Title='The Apartment', Writer='Billy Wilder, I.A.L. Diamond')},\n",
       " {'m': Node('Movie', Actor_Names='Charlie Sheen, Tom Berenger, Willem Dafoe', Director='Oliver Stone', Rating='8.1', Title='Platoon', Writer='Oliver Stone')},\n",
       " {'m': Node('Movie', Actor_Names='Gary Cooper, Grace Kelly, Thomas Mitchell', Director='Fred Zinnemann', Rating='8.0', Title='High Noon', Writer='Carl Foreman, John W. Cunningham')},\n",
       " {'m': Node('Movie', Actor_Names='Mel Gibson, Sophie Marceau, Patrick McGoohan', Director='Mel Gibson', Rating='8.4', Title='Braveheart', Writer='Randall Wallace')},\n",
       " {'m': Node('Movie', Actor_Names='Kevin Costner, Mary McDonnell, Graham Greene', Director='Kevin Costner', Rating='8.1', Title='Dances with Wolves', Writer='Michael Blake')},\n",
       " {'m': Node('Movie', Actor_Names='Sam Neill, Laura Dern, Jeff Goldblum', Director='Steven Spielberg', Rating='8.1', Title='Jurassic Park', Writer='Michael Crichton, David Koepp')},\n",
       " {'m': Node('Movie', Actor_Names='Ellen Burstyn, Max von Sydow, Linda Blair', Director='William Friedkin', Rating='8.1', Title='The Exorcist', Writer='William Peter Blatty')},\n",
       " {'m': Node('Movie', Actor_Names='Adrien Brody, Thomas Kretschmann, Frank Finlay', Director='Roman Polanski', Rating='8.6', Title='The Pianist', Writer='Ronald Harwood, Wladyslaw Szpilman')},\n",
       " {'m': Node('Movie', Actor_Names='Robert De Niro, Ray Liotta, Joe Pesci', Director='Martin Scorsese', Rating='8.7', Title='Goodfellas', Writer='Nicholas Pileggi, Martin Scorsese')},\n",
       " {'m': Node('Movie', Actor_Names='Robert De Niro, Christopher Walken, John Cazale', Director='Michael Cimino', Rating='8.1', Title='The Deer Hunter', Writer='Michael Cimino, Deric Washburn, Louis Garfinkle')},\n",
       " {'m': Node('Movie', Actor_Names='Lew Ayres, Louis Wolheim, John Wray', Director='Lewis Milestone', Rating='8.1', Title='All Quiet on the Western Front', Writer='Erich Maria Remarque, Maxwell Anderson, George Abbott')},\n",
       " {'m': Node('Movie', Actor_Names='Warren Beatty, Faye Dunaway, Michael J. Pollard', Director='Arthur Penn', Rating='7.8', Title='Bonnie and Clyde', Writer='David Newman, Robert Benton, Robert Towne')},\n",
       " {'m': Node('Movie', Actor_Names='Gene Hackman, Roy Scheider, Fernando Rey', Director='William Friedkin', Rating='7.7', Title='The French Connection', Writer='Ernest Tidyman, Robin Moore')},\n",
       " {'m': Node('Movie', Actor_Names='Charles Chaplin, Virginia Cherrill, Florence Lee', Director='Charles Chaplin', Rating='8.5', Title='City Lights', Writer='Charles Chaplin, Harry Carr, Harry Crocker')},\n",
       " {'m': Node('Movie', Actor_Names='Clark Gable, Claudette Colbert, Walter Connolly', Director='Frank Capra', Rating='8.1', Title='It Happened One Night', Writer='Robert Riskin, Samuel Hopkins Adams')},\n",
       " {'m': Node('Movie', Actor_Names='Montgomery Clift, Elizabeth Taylor, Shelley Winters', Director='George Stevens', Rating='7.8', Title='A Place in the Sun', Writer='Theodore Dreiser, Patrick Kearney, Michael Wilson')},\n",
       " {'m': Node('Movie', Actor_Names='Dustin Hoffman, Jon Voight, Sylvia Miles', Director='John Schlesinger', Rating='7.8', Title='Midnight Cowboy', Writer='Waldo Salt, James Leo Herlihy')},\n",
       " {'m': Node('Movie', Actor_Names='James Stewart, Jean Arthur, Claude Rains', Director='Frank Capra', Rating='8.1', Title='Mr. Smith Goes to Washington', Writer='Sidney Buchman, Lewis R. Foster, Myles Connolly')},\n",
       " {'m': Node('Movie', Actor_Names='Dustin Hoffman, Tom Cruise, Valeria Golino', Director='Barry Levinson', Rating='8.0', Title='Rain Man', Writer='Barry Morrow, Ronald Bass')},\n",
       " {'m': Node('Movie', Actor_Names='Woody Allen, Diane Keaton, Tony Roberts', Director='Woody Allen', Rating='8.0', Title='Annie Hall', Writer='Woody Allen, Marshall Brickman')},\n",
       " {'m': Node('Movie', Actor_Names='William H. Macy, Frances McDormand, Steve Buscemi', Director='Joel Coen, Ethan Coen', Rating='8.1', Title='Fargo', Writer='Ethan Coen, Joel Coen')},\n",
       " {'m': Node('Movie', Actor_Names='Elizabeth Taylor, Rock Hudson, James Dean', Director='George Stevens', Rating='7.6', Title='Giant', Writer='Edna Ferber, Fred Guiol, Ivan Moffat')},\n",
       " {'m': Node('Movie', Actor_Names='Alan Ladd, Jean Arthur, Van Heflin', Director='George Stevens', Rating='7.6', Title='Shane', Writer='A.B. Guthrie Jr., Jack Sher, Jack Schaefer')},\n",
       " {'m': Node('Movie', Actor_Names='Henry Fonda, Jane Darwell, John Carradine', Director='John Ford', Rating='8.1', Title='The Grapes of Wrath', Writer='Nunnally Johnson, John Steinbeck')},\n",
       " {'m': Node('Movie', Actor_Names='Tom Hanks, Michael Clarke Duncan, David Morse', Director='Frank Darabont', Rating='8.6', Title='The Green Mile', Writer='Stephen King, Frank Darabont')},\n",
       " {'m': Node('Movie', Actor_Names='Richard Dreyfuss, François Truffaut, Teri Garr', Director='Steven Spielberg', Rating='7.6', Title='Close Encounters of the Third Kind', Writer='Steven Spielberg, Hal Barwood, Jerry Belson')},\n",
       " {'m': Node('Movie', Actor_Names='Keith Carradine, Karen Black, Ronee Blakley', Director='Robert Altman', Rating='7.7', Title='Nashville', Writer='Joan Tewkesbury')},\n",
       " {'m': Node('Movie', Actor_Names='Faye Dunaway, William Holden, Peter Finch', Director='Sidney Lumet', Rating='8.1', Title='Network', Writer='Paddy Chayefsky')},\n",
       " {'m': Node('Movie', Actor_Names='Dustin Hoffman, Anne Bancroft, Katharine Ross', Director='Mike Nichols', Rating='8.0', Title='The Graduate', Writer='Calder Willingham, Buck Henry, Charles Webb')},\n",
       " {'m': Node('Movie', Actor_Names='Richard Dreyfuss, Ron Howard, Paul Le Mat', Director='George Lucas', Rating='7.4', Title='American Graffiti', Writer='George Lucas, Gloria Katz, Willard Huyck')},\n",
       " {'m': Node('Movie', Actor_Names='John Travolta, Uma Thurman, Samuel L. Jackson', Director='Quentin Tarantino', Rating='8.9', Title='Pulp Fiction', Writer='Quentin Tarantino, Roger Avary')},\n",
       " {'m': Node('Movie', Actor_Names='Shirley MacLaine, Debra Winger, Jack Nicholson', Director='James L. Brooks', Rating='7.4', Title='Terms of Endearment', Writer='Larry McMurtry, James L. Brooks')},\n",
       " {'m': Node('Movie', Actor_Names='Robin Williams, Matt Damon, Ben Affleck', Director='Gus Van Sant', Rating='8.3', Title='Good Will Hunting', Writer='Matt Damon, Ben Affleck')},\n",
       " {'m': Node('Movie', Actor_Names='Humphrey Bogart, Katharine Hepburn, Robert Morley', Director='John Huston', Rating='7.8', Title='The African Queen', Writer='C.S. Forester, James Agee, John Huston')},\n",
       " {'m': Node('Movie', Actor_Names='John Wayne, Claire Trevor, Andy Devine', Director='John Ford', Rating='7.8', Title='Stagecoach', Writer='Ernest Haycox, Dudley Nichols, Ben Hecht')},\n",
       " {'m': Node('Movie', Actor_Names='Charles Laughton, Clark Gable, Franchot Tone', Director='Frank Lloyd', Rating='7.7', Title='Mutiny on the Bounty', Writer='Talbot Jennings, Jules Furthman, Carey Wilson')},\n",
       " {'m': Node('Movie', Actor_Names='Charles Chaplin, Paulette Goddard, Jack Oakie', Director='Charles Chaplin', Rating='8.4', Title='The Great Dictator', Writer='Charles Chaplin')},\n",
       " {'m': Node('Movie', Actor_Names='Fred MacMurray, Barbara Stanwyck, Edward G. Robinson', Director='Billy Wilder', Rating='8.3', Title='Double Indemnity', Writer='Billy Wilder, Raymond Chandler, James M. Cain')},\n",
       " {'m': Node('Movie', Actor_Names='Humphrey Bogart, Mary Astor, Gladys George', Director='John Huston', Rating='8.0', Title='The Maltese Falcon', Writer='John Huston, Dashiell Hammett')},\n",
       " {'m': Node('Movie', Actor_Names='Merle Oberon, Laurence Olivier, David Niven', Director='William Wyler', Rating='7.6', Title='Wuthering Heights', Writer='Charles MacArthur, Ben Hecht, Emily Brontë')},\n",
       " {'m': Node('Movie', Actor_Names='Robert De Niro, Jodie Foster, Cybill Shepherd', Director='Martin Scorsese', Rating='8.2', Title='Taxi Driver', Writer='Paul Schrader')},\n",
       " {'m': Node('Movie', Actor_Names='James Stewart, Grace Kelly, Wendell Corey', Director='Alfred Hitchcock', Rating='8.5', Title='Rear Window', Writer='John Michael Hayes, Cornell Woolrich')},\n",
       " {'m': Node('Movie', Actor_Names='Orson Welles, Joseph Cotten, Alida Valli', Director='Carol Reed', Rating='8.1', Title='The Third Man', Writer='Graham Greene, Orson Welles, Alexander Korda')},\n",
       " {'m': Node('Movie', Actor_Names='James Dean, Natalie Wood, Sal Mineo', Director='Nicholas Ray', Rating='7.7', Title='Rebel Without a Cause', Writer='Stewart Stern, Irving Shulman, Nicholas Ray')},\n",
       " {'m': Node('Movie', Actor_Names='Cary Grant, Eva Marie Saint, James Mason', Director='Alfred Hitchcock', Rating='8.3', Title='North by Northwest', Writer='Ernest Lehman')},\n",
       " {'m': Node('Movie', Actor_Names='James Cagney, Joan Leslie, Walter Huston', Director='Michael Curtiz', Rating='7.6', Title='Yankee Doodle Dandy', Writer='Robert Buckner, Edmund Joseph, Julius J. Epstein')},\n",
       " {'m': Node('Movie')},\n",
       " {'m': Node('Movie')},\n",
       " {'m': Node('Movie')},\n",
       " {'m': Node('Movie')},\n",
       " {'m': Node('Movie', Actor_Names='Marlon Brando, Al Pacino, James Caan', Director='Francis Ford Coppola', Rating='9.2', Title='The Godfather', Writer='Mario Puzo, Francis Ford Coppola')},\n",
       " {'m': Node('Movie', Actor_Names='Tim Robbins, Morgan Freeman, Bob Gunton', Director='Frank Darabont', Rating='9.3', Title='The Shawshank Redemption', Writer='Stephen King, Frank Darabont')},\n",
       " {'m': Node('Movie', Actor_Names='Liam Neeson, Ralph Fiennes, Ben Kingsley', Director='Steven Spielberg', Rating='8.9', Title='Schindlers List', Writer='Thomas Keneally, Steven Zaillian')},\n",
       " {'m': Node('Movie', Actor_Names='Robert De Niro, Cathy Moriarty, Joe Pesci', Director='Martin Scorsese', Rating='8.2', Title='Raging Bull', Writer='Jake LaMotta, Joseph Carter, Peter Savage')},\n",
       " {'m': Node('Movie', Actor_Names='Humphrey Bogart, Ingrid Bergman, Paul Henreid', Director='Michael Curtiz', Rating='8.5', Title='Casablanca', Writer='Julius J. Epstein, Philip G. Epstein, Howard Koch')},\n",
       " {'m': Node('Movie', Actor_Names='Orson Welles, Joseph Cotten, Dorothy Comingore', Director='Orson Welles', Rating='8.3', Title='Citizen Kane', Writer='Herman J. Mankiewicz, Orson Welles, John Houseman')},\n",
       " {'m': Node('Movie', Actor_Names='Clark Gable, Vivien Leigh, Thomas Mitchell', Director='Victor Fleming, George Cukor, Sam Wood', Rating='8.2', Title='Gone with the Wind', Writer='Margaret Mitchell, Sidney Howard, Oliver H.P. Garrett')},\n",
       " {'m': Node('Movie', Actor_Names='Judy Garland, Frank Morgan, Ray Bolger', Director='Victor Fleming, George Cukor, Mervyn LeRoy', Rating='8.1', Title='The Wizard of Oz', Writer='Noel Langley, Florence Ryerson, Edgar Allan Woolf')},\n",
       " {'m': Node('Movie', Actor_Names='Jack Nicholson, Louise Fletcher, Michael Berryman', Director='Milos Forman', Rating='8.7', Title='One Flew Over the Cuckoos Nest', Writer='Lawrence Hauben, Bo Goldman, Ken Kesey')},\n",
       " {'m': Node('Movie', Actor_Names='Peter OToole, Alec Guinness, Anthony Quinn', Director='David Lean', Rating='8.3', Title='Lawrence of Arabia', Writer='Robert Bolt, Michael Wilson')},\n",
       " {'m': Node('Movie', Actor_Names='James Stewart, Kim Novak, Barbara Bel Geddes', Director='Alfred Hitchcock', Rating='8.3', Title='Vertigo', Writer='Alec Coppel, Samuel A. Taylor, Pierre Boileau')},\n",
       " {'m': Node('Movie', Actor_Names='Anthony Perkins, Janet Leigh, Vera Miles', Director='Alfred Hitchcock', Rating='8.5', Title='Psycho', Writer='Joseph Stefano, Robert Bloch')},\n",
       " {'m': Node('Movie', Actor_Names='Al Pacino, Robert De Niro, Robert Duvall', Director='Francis Ford Coppola', Rating='9.0', Title='The Godfather: Part II', Writer='Francis Ford Coppola, Mario Puzo')},\n",
       " {'m': Node('Movie', Actor_Names='Marlon Brando, Karl Malden, Lee J. Cobb', Director='Elia Kazan', Rating='8.1', Title='On the Waterfront', Writer='Budd Schulberg, Malcolm Johnson, Robert Siodmak')},\n",
       " {'m': Node('Movie', Actor_Names='William Holden, Gloria Swanson, Erich von Stroheim', Director='Billy Wilder', Rating='8.4', Title='Sunset Blvd.', Writer='Charles Brackett, Billy Wilder, D.M. Marshman Jr.')},\n",
       " {'m': Node('Movie', Actor_Names='Tom Hanks, Robin Wright, Gary Sinise', Director='Robert Zemeckis', Rating='8.8', Title='Forrest Gump', Writer='Winston Groom, Eric Roth')}]"
      ]
     },
     "execution_count": 28,
     "metadata": {},
     "output_type": "execute_result"
    }
   ],
   "source": [
    "query3='''Match (m:Movie)\n",
    "    Return m'''\n",
    "\n",
    "result=graph.query(query3)\n",
    "result.data()"
   ]
  }
 ],
 "metadata": {
  "celltoolbar": "Attachments",
  "colab": {
   "authorship_tag": "ABX9TyP3ZQLZWfklRJcUtxYD80hE",
   "collapsed_sections": [],
   "name": "CA_2 Python Programming.ipynb",
   "provenance": []
  },
  "kernelspec": {
   "display_name": "Python 3 (ipykernel)",
   "language": "python",
   "name": "python3"
  },
  "language_info": {
   "codemirror_mode": {
    "name": "ipython",
    "version": 3
   },
   "file_extension": ".py",
   "mimetype": "text/x-python",
   "name": "python",
   "nbconvert_exporter": "python",
   "pygments_lexer": "ipython3",
   "version": "3.9.10"
  }
 },
 "nbformat": 4,
 "nbformat_minor": 1
}
